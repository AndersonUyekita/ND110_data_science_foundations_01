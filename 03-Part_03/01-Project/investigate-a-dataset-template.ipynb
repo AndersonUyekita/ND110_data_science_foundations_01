{
 "cells": [
  {
   "cell_type": "markdown",
   "metadata": {},
   "source": [
    "# Project: Vitória No-show Medical Appointment\n",
    "    \n",
    "> <font color=grey> <i>QUESTION: I do not have yet, but I will figure out along the report a good question.</i> </font>\n",
    "\n",
    "## Table of Contents\n",
    "<ul>\n",
    "<li><a href=\"#intro\">Introduction</a></li>\n",
    "<li><a href=\"#wrangling\">Data Wrangling</a></li>\n",
    "<li><a href=\"#eda\">Exploratory Data Analysis</a></li>\n",
    "<li><a href=\"#conclusions\">Conclusions</a></li>\n",
    "<li><a href=\"#appendix_a\">Appendix</a></li>\n",
    "<li><a href=\"#references\">References</a></li>\n",
    "</ul>\n",
    "\n",
    "Author: Anderson Hitoshi Uyekita  \n",
    "Date: 11/12/2018"
   ]
  },
  {
   "cell_type": "markdown",
   "metadata": {},
   "source": [
    "## Introduction <a id='intro'></a>\n",
    "\n",
    "I decided to face this specific problem, because I am from Brazil and it will be a big challenge for me to make any conclusions using this data. I am an Electrical Engineer, and I have never been in Vitória, even more I do not nothing about the public health care systems.\n",
    "\n",
    "It's a bit complicated to address any kind of question (beforehand) if I do not have a clue about the variables in this dataset. Obviously, (Now) I have already load the data and printed some summaries, and my approach for this Project is aggregate new variables (all these new information are public and free to access).\n",
    "\n",
    "With these new variables, such as: Average Income per Month, Number of inhabitants in each Neighborhood (divided into male and female), Neighborhood, and Regional Administration.\n",
    "\n",
    "I hope in the end of the Data Assessing I will come with a good question.\n",
    "***"
   ]
  },
  {
   "cell_type": "markdown",
   "metadata": {},
   "source": [
    "## Objectivies\n",
    "\n",
    "Although, I do not have a question yet, I wonder to this project an opportunity to pratice all the contect learned \"in class\". So, my objectivies for this project are:\n",
    "\n",
    "* Have pratice in Data Wrangling\n",
    "    * Gathering;\n",
    "    * Assessing;\n",
    "    * Cleaning;\n",
    "* Have pratice in EDA\n",
    "* Have pratice in Python Coding\n",
    "    * Also in Jupyter Notebook\n",
    "* Make a reproduciable research\n",
    "* Have fun.\n",
    "\n",
    "***"
   ]
  },
  {
   "cell_type": "markdown",
   "metadata": {},
   "source": [
    "## Synopsis\n",
    "\n",
    "The answer of my question...\n",
    "\n",
    "***"
   ]
  },
  {
   "cell_type": "markdown",
   "metadata": {},
   "source": [
    "## Reproduciability\n",
    "\n",
    "I have written this report using the Jupyter Notebook to allow anyone the reproduciability of each step. Despite of I have create some dataset to enhance my analysis, which turn everything much harder to reproduce. I have stored these dataset in Github, so it's available to anyone to download and to use it.\n",
    "\n",
    "### Work envinronment\n",
    "\n",
    "All this research is performed using:\n",
    "\n",
    "* Dell Notebook Inspiron 7348;\n",
    "* Intel(R) Core(TM) i7-5500U CPU @ 2.40GHz 2.40GHz;\n",
    "* 8.00 GB;\n",
    "* Windows 10 Pro 64-bits.\n",
    "\n",
    "### Softwares\n",
    "\n",
    "To be honest I did not use the Python IDLE in this project, because I wrote directly in Jupyter Notebook, so to perform study I code everything directly in Opera.\n",
    "\n",
    "* Opera\n",
    "* Atom\n",
    "\n",
    "I have used the Atom to push to Github respository, and nothing more than this.\n",
    "\n",
    "### Packages\n",
    "\n",
    "I kindly ask you to install each of this packages before you run the next steps.\n",
    "\n",
    "* Jupyter Notebook\n",
    "* Pandas\n",
    "* Numpy\n",
    "* Matplotlib\n",
    "\n",
    "### Repository\n",
    "\n",
    "You can access all files of this report in this repository:\n",
    "\n",
    "* https://github.com/AndersonUyekita/udacity_data_science_foundation_01\n",
    "***"
   ]
  },
  {
   "cell_type": "markdown",
   "metadata": {},
   "source": [
    "## Data Wrangling <a id='wrangling'></a>\n",
    "\n",
    "This file is available at Kaggle and maintained by [@JoniHoppen][data_1], this file is also available to download at GDrive.\n",
    "\n",
    "* <a href=\"https://www.kaggle.com/joniarroba/noshowappointments\" target=\"_blank\">Kaggle (uploaded by JoniHoppen)</a>, and;\n",
    "* <a href=\"https://d17h27t6h515a5.cloudfront.net/topher/2017/October/59dd2e9a_noshowappointments-kagglev2-may-2016/noshowappointments-kagglev2-may-2016.csv\">GDrive</a>\n",
    "\n",
    "### Brief about Vitória\n",
    "\n",
    "This dataset records medical appointments from march to june of 2016, realized in publics hospitals in [Vitória](https://en.wikipedia.org/wiki/Vitória,_Espírito_Santo), a medium size city (almost 320.000 inhabitants) of Brazil located in the southeast region.\n",
    "\n",
    "<table style=\"width:100%\">\n",
    "  <tr>\n",
    "    <th><img src=\"01-img/Brazil_State_EspiritoSanto.png\" width='400'/><br>\n",
    "        <center><i>Figure 1a - Brazil Map with Espírito Santo State Highlighted.</i></center></th>\n",
    "    <th><img src=\"01-img/es.png\" width='400'/>\n",
    "        <center><i>Figure 1b - Vitória City, Capital of Espírito Santo State.</i></center><br></th>\n",
    "  </tr>\n",
    "</table>\n",
    "\n",
    "\n",
    "Vitória is the Capital of Espírito Santo State, and has almost 320.000 inhabitants (also accordding with the Wikipedia) spread in 9 Regional Administation areas, which has a total of 80 neighborhoods.\n",
    "\n",
    "The public health systems is compounded by Basic Units of Health (_Unidade Básica de Saúde_, for the sake of this document UBS) spread all over the city, the Figure 2 shows how these UBS are located in the city.\n",
    "\n",
    "<img src=\"01-img/Figure_2.png\" width='600'/>\n",
    "\n",
    "<center><i>Figure 2 - UBS in Vitória City.</i></center>\n",
    "\n",
    "I have extracted this illustration from the document [_Relatório de Gestão 2008_][data_2] from the _Sistema Único de Saúde_ of Vitória Council Health Secretary, based on this document and on these two:\n",
    "\n",
    "* [Equipamento de Saúde][data_3]: This document shows in scale where each UBS is located;\n",
    "* [Município de Vitória - Territórios de Saúde][data_4]: Also shows in scale where each UBS is located, but much richier in details, because summarize the number of each kind of UBS. I use this information to calculate the total number of UBS.\n",
    "\n",
    "After a briefly compilation of info from these three sources, I have summed up 38 (<a href=\"#ubs\">See details here</a></li>) UBS (or similars) in Vitória City.\n",
    "\n",
    "* Basic Units of Health with Family Strategy(US Família): 19 units;\n",
    "* Community Agent Health Program (US PACS): 8 units;\n",
    "* Polyclinic, Specialized or Reference Center: 11.\n",
    "\n",
    "These building has some distinction of what kind of services could offer, but I will assume for this dataset all appointments could be done in any of this 38 premisses.\n",
    "\n",
    "**Observation:** This is not important to the project, but could be important to someone who want to learn more about this dataset. The Regional Administration Area is slightly different from the Health Territory Area, because the Regional Administration Area has 9 areas and the Health Territory Area has 6, which means some neighborhood were relocated to other regions. It could be much clearly if you compare these two files ([Regional Administative Area][data_5] and [Health Territory Area][data_4]).\n",
    "\n",
    "If you are still curious about the location of each UBS, you can access the [GeoWeb][data_6], this is a web-based tool with a thematic map.\n",
    "\n",
    "### Data Structure\n",
    "\n",
    "Unfortunatelly, this dataset lacks of a codebook, despite of this hurdle, much of the problems could be solved reading the Kaggle Discussions Channel. This data set has:\n",
    "\n",
    "* 110.527 rows (observations).\n",
    "* 14 columns (variable or features);\n",
    "\n",
    "Each of these variables could be interpreted by using the Table 1.\n",
    "\n",
    "<strong><center>Table 1 - Variables Types Description</center></strong>\n",
    "\n",
    "|Variable|Type|Description|\n",
    "|:-:|:-:|:-:|\n",
    "|PatientId|int|Internal ID to track the patient\n",
    "|AppointmentID|date|Internal ID to track the appointment\n",
    "|Gender|cat|F: Female and M: Male\n",
    "|ScheduledDay|date|Planned date to appointment\n",
    "|AppointmentDay|date|When the appointment occurs\n",
    "|Age|int|Person Age, if Age is negative the person is pregnant\n",
    "|Neighbourhood|str|In Brazil, each city is divided into Regional Administration (_Regiões Administrativas_) <br> and then in neighborhood (_bairros_). Read more in <a href=\"#appendix_a\">Appendix A</a>.\n",
    "|Scholarship|bool|0: No and 1: Yes\n",
    "|Hipertension|bool|0: No and 1: Yes\n",
    "|Diabetes|bool|0: No and 1: Yes\n",
    "|Alcoholism|bool| 0: No and 1: Yes\n",
    "|Handcap|int| Means the quantity of disabilities of this person (0,1,2,3,4).\n",
    "|SMS_received|int|Number of SMS sent to the patient|\n",
    "|No-show|cat| No: Show-up and Yes: No-show\n",
    "\n",
    "### Additional Data\n",
    "\n",
    "I have found some good information available on the internet, and I decided to aggregate to my analysis. In the final of this document, in Appendix chapter, I have added some details from where I get these infos. As results of it, I have wrote two datasets:\n",
    "\n",
    "* <a href=\"#reg_admin\">Vitória Regional Administration Data;</a>\n",
    "* <a href=\"#neighborhood\">Vitória Neighborhood Data.</a>\n",
    "* <a href=\"#age\">Vitória Age Data.</a>\n",
    "\n",
    "[data_1]: https://www.kaggle.com/joniarroba\n",
    "[data_2]: http://www.vitoria.es.gov.br/arquivos/20100519_saude_relator_gestao_2008.pdf\n",
    "[data_3]: http://sistemas7.vitoria.es.gov.br/GeoWebApi/Downloads/pdf/saude/Equipamentos_de_Saude.pdf\n",
    "[data_4]: http://sistemas7.vitoria.es.gov.br/GeoWebApi/Downloads/pdf/saude/Regioes_Territoriais_de_Saude.pdf\n",
    "[data_5]: http://sistemas7.vitoria.es.gov.br/GeoWebApi/Downloads/pdf/politicos/Regionais_Administrativas.pdf\n",
    "[data_6]: http://geoweb.vitoria.es.gov.br/\n",
    "***"
   ]
  },
  {
   "cell_type": "markdown",
   "metadata": {},
   "source": [
    "## Data Assess\n",
    "\n",
    "Let's start analysing the number of rows, columns, number of null values, number of duplicated rows, and data types. I am also interest in the first and last rows to assess if there are any problem with header or a non-standard values in the final of the archive.\n",
    "\n",
    "### Requirements\n",
    "\n",
    "These are all the libraries I will use during this report these libraries:"
   ]
  },
  {
   "cell_type": "code",
   "execution_count": 1,
   "metadata": {},
   "outputs": [],
   "source": [
    "# Importing Libraries.\n",
    "import pandas as pd\n",
    "import numpy as np\n",
    "import matplotlib.pyplot as plt\n",
    "import seaborn as sns\n",
    "% matplotlib inline"
   ]
  },
  {
   "cell_type": "markdown",
   "metadata": {},
   "source": [
    "Let's load the `noshowappointments-kagglev2-may-2016.csv` file, according with the instructions:\n",
    "\n",
    ">_This dataset collects information from **100k medical appointments** in Brazil and is focused on the question of whether or not patients show up for their appointment. A number of characteristics about the patient are included in each row._\n",
    "\n",
    "Has 100.000 medical appointments."
   ]
  },
  {
   "cell_type": "code",
   "execution_count": 2,
   "metadata": {},
   "outputs": [
    {
     "name": "stdout",
     "output_type": "stream",
     "text": [
      "Rows: 110527\n",
      "Columns: 14\n"
     ]
    }
   ],
   "source": [
    "# Loading the dataset.\n",
    "df_vit = pd.read_csv('noshowappointments-kagglev2-may-2016.csv')\n",
    "\n",
    "# Plot the dimensions\n",
    "print(\"Rows: {}\\nColumns: {}\".format(*df_vit.shape))"
   ]
  },
  {
   "cell_type": "markdown",
   "metadata": {},
   "source": [
    "As I expected, the number of rows is roughly 110k and 14 columns.\n",
    "\n",
    "Now, I want to see the first and the last 10 rows, just to ensure if everything is ok. "
   ]
  },
  {
   "cell_type": "code",
   "execution_count": 3,
   "metadata": {},
   "outputs": [
    {
     "data": {
      "text/html": [
       "<div>\n",
       "<style scoped>\n",
       "    .dataframe tbody tr th:only-of-type {\n",
       "        vertical-align: middle;\n",
       "    }\n",
       "\n",
       "    .dataframe tbody tr th {\n",
       "        vertical-align: top;\n",
       "    }\n",
       "\n",
       "    .dataframe thead th {\n",
       "        text-align: right;\n",
       "    }\n",
       "</style>\n",
       "<table border=\"1\" class=\"dataframe\">\n",
       "  <thead>\n",
       "    <tr style=\"text-align: right;\">\n",
       "      <th></th>\n",
       "      <th>PatientId</th>\n",
       "      <th>AppointmentID</th>\n",
       "      <th>Gender</th>\n",
       "      <th>ScheduledDay</th>\n",
       "      <th>AppointmentDay</th>\n",
       "      <th>Age</th>\n",
       "      <th>Neighbourhood</th>\n",
       "      <th>Scholarship</th>\n",
       "      <th>Hipertension</th>\n",
       "      <th>Diabetes</th>\n",
       "      <th>Alcoholism</th>\n",
       "      <th>Handcap</th>\n",
       "      <th>SMS_received</th>\n",
       "      <th>No-show</th>\n",
       "    </tr>\n",
       "  </thead>\n",
       "  <tbody>\n",
       "    <tr>\n",
       "      <th>0</th>\n",
       "      <td>2.987250e+13</td>\n",
       "      <td>5642903</td>\n",
       "      <td>F</td>\n",
       "      <td>2016-04-29T18:38:08Z</td>\n",
       "      <td>2016-04-29T00:00:00Z</td>\n",
       "      <td>62</td>\n",
       "      <td>JARDIM DA PENHA</td>\n",
       "      <td>0</td>\n",
       "      <td>1</td>\n",
       "      <td>0</td>\n",
       "      <td>0</td>\n",
       "      <td>0</td>\n",
       "      <td>0</td>\n",
       "      <td>No</td>\n",
       "    </tr>\n",
       "    <tr>\n",
       "      <th>1</th>\n",
       "      <td>5.589978e+14</td>\n",
       "      <td>5642503</td>\n",
       "      <td>M</td>\n",
       "      <td>2016-04-29T16:08:27Z</td>\n",
       "      <td>2016-04-29T00:00:00Z</td>\n",
       "      <td>56</td>\n",
       "      <td>JARDIM DA PENHA</td>\n",
       "      <td>0</td>\n",
       "      <td>0</td>\n",
       "      <td>0</td>\n",
       "      <td>0</td>\n",
       "      <td>0</td>\n",
       "      <td>0</td>\n",
       "      <td>No</td>\n",
       "    </tr>\n",
       "    <tr>\n",
       "      <th>2</th>\n",
       "      <td>4.262962e+12</td>\n",
       "      <td>5642549</td>\n",
       "      <td>F</td>\n",
       "      <td>2016-04-29T16:19:04Z</td>\n",
       "      <td>2016-04-29T00:00:00Z</td>\n",
       "      <td>62</td>\n",
       "      <td>MATA DA PRAIA</td>\n",
       "      <td>0</td>\n",
       "      <td>0</td>\n",
       "      <td>0</td>\n",
       "      <td>0</td>\n",
       "      <td>0</td>\n",
       "      <td>0</td>\n",
       "      <td>No</td>\n",
       "    </tr>\n",
       "    <tr>\n",
       "      <th>3</th>\n",
       "      <td>8.679512e+11</td>\n",
       "      <td>5642828</td>\n",
       "      <td>F</td>\n",
       "      <td>2016-04-29T17:29:31Z</td>\n",
       "      <td>2016-04-29T00:00:00Z</td>\n",
       "      <td>8</td>\n",
       "      <td>PONTAL DE CAMBURI</td>\n",
       "      <td>0</td>\n",
       "      <td>0</td>\n",
       "      <td>0</td>\n",
       "      <td>0</td>\n",
       "      <td>0</td>\n",
       "      <td>0</td>\n",
       "      <td>No</td>\n",
       "    </tr>\n",
       "    <tr>\n",
       "      <th>4</th>\n",
       "      <td>8.841186e+12</td>\n",
       "      <td>5642494</td>\n",
       "      <td>F</td>\n",
       "      <td>2016-04-29T16:07:23Z</td>\n",
       "      <td>2016-04-29T00:00:00Z</td>\n",
       "      <td>56</td>\n",
       "      <td>JARDIM DA PENHA</td>\n",
       "      <td>0</td>\n",
       "      <td>1</td>\n",
       "      <td>1</td>\n",
       "      <td>0</td>\n",
       "      <td>0</td>\n",
       "      <td>0</td>\n",
       "      <td>No</td>\n",
       "    </tr>\n",
       "  </tbody>\n",
       "</table>\n",
       "</div>"
      ],
      "text/plain": [
       "      PatientId  AppointmentID Gender          ScheduledDay  \\\n",
       "0  2.987250e+13        5642903      F  2016-04-29T18:38:08Z   \n",
       "1  5.589978e+14        5642503      M  2016-04-29T16:08:27Z   \n",
       "2  4.262962e+12        5642549      F  2016-04-29T16:19:04Z   \n",
       "3  8.679512e+11        5642828      F  2016-04-29T17:29:31Z   \n",
       "4  8.841186e+12        5642494      F  2016-04-29T16:07:23Z   \n",
       "\n",
       "         AppointmentDay  Age      Neighbourhood  Scholarship  Hipertension  \\\n",
       "0  2016-04-29T00:00:00Z   62    JARDIM DA PENHA            0             1   \n",
       "1  2016-04-29T00:00:00Z   56    JARDIM DA PENHA            0             0   \n",
       "2  2016-04-29T00:00:00Z   62      MATA DA PRAIA            0             0   \n",
       "3  2016-04-29T00:00:00Z    8  PONTAL DE CAMBURI            0             0   \n",
       "4  2016-04-29T00:00:00Z   56    JARDIM DA PENHA            0             1   \n",
       "\n",
       "   Diabetes  Alcoholism  Handcap  SMS_received No-show  \n",
       "0         0           0        0             0      No  \n",
       "1         0           0        0             0      No  \n",
       "2         0           0        0             0      No  \n",
       "3         0           0        0             0      No  \n",
       "4         1           0        0             0      No  "
      ]
     },
     "execution_count": 3,
     "metadata": {},
     "output_type": "execute_result"
    }
   ],
   "source": [
    "df_vit.head(5)  # Print the first 5 rows."
   ]
  },
  {
   "cell_type": "code",
   "execution_count": 4,
   "metadata": {},
   "outputs": [
    {
     "data": {
      "text/html": [
       "<div>\n",
       "<style scoped>\n",
       "    .dataframe tbody tr th:only-of-type {\n",
       "        vertical-align: middle;\n",
       "    }\n",
       "\n",
       "    .dataframe tbody tr th {\n",
       "        vertical-align: top;\n",
       "    }\n",
       "\n",
       "    .dataframe thead th {\n",
       "        text-align: right;\n",
       "    }\n",
       "</style>\n",
       "<table border=\"1\" class=\"dataframe\">\n",
       "  <thead>\n",
       "    <tr style=\"text-align: right;\">\n",
       "      <th></th>\n",
       "      <th>PatientId</th>\n",
       "      <th>AppointmentID</th>\n",
       "      <th>Gender</th>\n",
       "      <th>ScheduledDay</th>\n",
       "      <th>AppointmentDay</th>\n",
       "      <th>Age</th>\n",
       "      <th>Neighbourhood</th>\n",
       "      <th>Scholarship</th>\n",
       "      <th>Hipertension</th>\n",
       "      <th>Diabetes</th>\n",
       "      <th>Alcoholism</th>\n",
       "      <th>Handcap</th>\n",
       "      <th>SMS_received</th>\n",
       "      <th>No-show</th>\n",
       "    </tr>\n",
       "  </thead>\n",
       "  <tbody>\n",
       "    <tr>\n",
       "      <th>110522</th>\n",
       "      <td>2.572134e+12</td>\n",
       "      <td>5651768</td>\n",
       "      <td>F</td>\n",
       "      <td>2016-05-03T09:15:35Z</td>\n",
       "      <td>2016-06-07T00:00:00Z</td>\n",
       "      <td>56</td>\n",
       "      <td>MARIA ORTIZ</td>\n",
       "      <td>0</td>\n",
       "      <td>0</td>\n",
       "      <td>0</td>\n",
       "      <td>0</td>\n",
       "      <td>0</td>\n",
       "      <td>1</td>\n",
       "      <td>No</td>\n",
       "    </tr>\n",
       "    <tr>\n",
       "      <th>110523</th>\n",
       "      <td>3.596266e+12</td>\n",
       "      <td>5650093</td>\n",
       "      <td>F</td>\n",
       "      <td>2016-05-03T07:27:33Z</td>\n",
       "      <td>2016-06-07T00:00:00Z</td>\n",
       "      <td>51</td>\n",
       "      <td>MARIA ORTIZ</td>\n",
       "      <td>0</td>\n",
       "      <td>0</td>\n",
       "      <td>0</td>\n",
       "      <td>0</td>\n",
       "      <td>0</td>\n",
       "      <td>1</td>\n",
       "      <td>No</td>\n",
       "    </tr>\n",
       "    <tr>\n",
       "      <th>110524</th>\n",
       "      <td>1.557663e+13</td>\n",
       "      <td>5630692</td>\n",
       "      <td>F</td>\n",
       "      <td>2016-04-27T16:03:52Z</td>\n",
       "      <td>2016-06-07T00:00:00Z</td>\n",
       "      <td>21</td>\n",
       "      <td>MARIA ORTIZ</td>\n",
       "      <td>0</td>\n",
       "      <td>0</td>\n",
       "      <td>0</td>\n",
       "      <td>0</td>\n",
       "      <td>0</td>\n",
       "      <td>1</td>\n",
       "      <td>No</td>\n",
       "    </tr>\n",
       "    <tr>\n",
       "      <th>110525</th>\n",
       "      <td>9.213493e+13</td>\n",
       "      <td>5630323</td>\n",
       "      <td>F</td>\n",
       "      <td>2016-04-27T15:09:23Z</td>\n",
       "      <td>2016-06-07T00:00:00Z</td>\n",
       "      <td>38</td>\n",
       "      <td>MARIA ORTIZ</td>\n",
       "      <td>0</td>\n",
       "      <td>0</td>\n",
       "      <td>0</td>\n",
       "      <td>0</td>\n",
       "      <td>0</td>\n",
       "      <td>1</td>\n",
       "      <td>No</td>\n",
       "    </tr>\n",
       "    <tr>\n",
       "      <th>110526</th>\n",
       "      <td>3.775115e+14</td>\n",
       "      <td>5629448</td>\n",
       "      <td>F</td>\n",
       "      <td>2016-04-27T13:30:56Z</td>\n",
       "      <td>2016-06-07T00:00:00Z</td>\n",
       "      <td>54</td>\n",
       "      <td>MARIA ORTIZ</td>\n",
       "      <td>0</td>\n",
       "      <td>0</td>\n",
       "      <td>0</td>\n",
       "      <td>0</td>\n",
       "      <td>0</td>\n",
       "      <td>1</td>\n",
       "      <td>No</td>\n",
       "    </tr>\n",
       "  </tbody>\n",
       "</table>\n",
       "</div>"
      ],
      "text/plain": [
       "           PatientId  AppointmentID Gender          ScheduledDay  \\\n",
       "110522  2.572134e+12        5651768      F  2016-05-03T09:15:35Z   \n",
       "110523  3.596266e+12        5650093      F  2016-05-03T07:27:33Z   \n",
       "110524  1.557663e+13        5630692      F  2016-04-27T16:03:52Z   \n",
       "110525  9.213493e+13        5630323      F  2016-04-27T15:09:23Z   \n",
       "110526  3.775115e+14        5629448      F  2016-04-27T13:30:56Z   \n",
       "\n",
       "              AppointmentDay  Age Neighbourhood  Scholarship  Hipertension  \\\n",
       "110522  2016-06-07T00:00:00Z   56   MARIA ORTIZ            0             0   \n",
       "110523  2016-06-07T00:00:00Z   51   MARIA ORTIZ            0             0   \n",
       "110524  2016-06-07T00:00:00Z   21   MARIA ORTIZ            0             0   \n",
       "110525  2016-06-07T00:00:00Z   38   MARIA ORTIZ            0             0   \n",
       "110526  2016-06-07T00:00:00Z   54   MARIA ORTIZ            0             0   \n",
       "\n",
       "        Diabetes  Alcoholism  Handcap  SMS_received No-show  \n",
       "110522         0           0        0             1      No  \n",
       "110523         0           0        0             1      No  \n",
       "110524         0           0        0             1      No  \n",
       "110525         0           0        0             1      No  \n",
       "110526         0           0        0             1      No  "
      ]
     },
     "execution_count": 4,
     "metadata": {},
     "output_type": "execute_result"
    }
   ],
   "source": [
    "df_vit.tail(5)  # Print the last 5 rows."
   ]
  },
  {
   "cell_type": "markdown",
   "metadata": {},
   "source": [
    "After check the first and last rows, and confirm nothing is wrong with it. I will analyse the number of duplicated entries."
   ]
  },
  {
   "cell_type": "code",
   "execution_count": 5,
   "metadata": {},
   "outputs": [
    {
     "name": "stdout",
     "output_type": "stream",
     "text": [
      "Number of duplicated rows: 0\n"
     ]
    }
   ],
   "source": [
    "# Sum the number of rows with duplicated entries.\n",
    "dupe = sum(df_vit.duplicated())\n",
    "\n",
    "print(\"Number of duplicated rows: {}\".format(dupe))"
   ]
  },
  {
   "cell_type": "markdown",
   "metadata": {},
   "source": [
    "Nice dataframe, no duplicated entries. Now, let's find any NA value or any kind of strange value using the `.info()` method. Note with results of `.info()` I can check if there are inconsistency in the data type of each variable."
   ]
  },
  {
   "cell_type": "code",
   "execution_count": 6,
   "metadata": {},
   "outputs": [
    {
     "name": "stdout",
     "output_type": "stream",
     "text": [
      "<class 'pandas.core.frame.DataFrame'>\n",
      "RangeIndex: 110527 entries, 0 to 110526\n",
      "Data columns (total 14 columns):\n",
      "PatientId         110527 non-null float64\n",
      "AppointmentID     110527 non-null int64\n",
      "Gender            110527 non-null object\n",
      "ScheduledDay      110527 non-null object\n",
      "AppointmentDay    110527 non-null object\n",
      "Age               110527 non-null int64\n",
      "Neighbourhood     110527 non-null object\n",
      "Scholarship       110527 non-null int64\n",
      "Hipertension      110527 non-null int64\n",
      "Diabetes          110527 non-null int64\n",
      "Alcoholism        110527 non-null int64\n",
      "Handcap           110527 non-null int64\n",
      "SMS_received      110527 non-null int64\n",
      "No-show           110527 non-null object\n",
      "dtypes: float64(1), int64(8), object(5)\n",
      "memory usage: 11.8+ MB\n"
     ]
    }
   ],
   "source": [
    "# Check if any rows has NA values.\n",
    "df_vit.info()"
   ]
  },
  {
   "cell_type": "markdown",
   "metadata": {},
   "source": [
    "Based on the `.info()` results, I have found some problem, so I will only comment which I think is wrong.\n",
    "\n",
    "* `PatientId`: ID to identify the patient, must be int;\n",
    "* `ScheduledDay` and `AppointmentDay`: Are dates, I will need to fix it;\n",
    "* `Scholarship`, `Hipertension`, `Diabetes`, `No-show`, and `Alcoholism`: Boolean variables, I also need to fix it later.\n",
    "\n",
    "Let's see the columns names, maybe it will be necessary an adjustment in the uppercase to lower case."
   ]
  },
  {
   "cell_type": "code",
   "execution_count": 7,
   "metadata": {},
   "outputs": [
    {
     "data": {
      "text/plain": [
       "Index(['PatientId', 'AppointmentID', 'Gender', 'ScheduledDay',\n",
       "       'AppointmentDay', 'Age', 'Neighbourhood', 'Scholarship', 'Hipertension',\n",
       "       'Diabetes', 'Alcoholism', 'Handcap', 'SMS_received', 'No-show'],\n",
       "      dtype='object')"
      ]
     },
     "execution_count": 7,
     "metadata": {},
     "output_type": "execute_result"
    }
   ],
   "source": [
    "# Print the columns names.\n",
    "df_vit.columns"
   ]
  },
  {
   "cell_type": "markdown",
   "metadata": {},
   "source": [
    "Fortunately, I did not find any space between the variable's name, however, there are a plent of variable with One uppercase in the middle of the variable. To put everything uniformelly, later I will apply the `.lower()`.\n",
    "\n",
    "The `.nunique()` method prints the number of unique values for each variable. "
   ]
  },
  {
   "cell_type": "code",
   "execution_count": 8,
   "metadata": {},
   "outputs": [
    {
     "data": {
      "text/plain": [
       "PatientId          62299\n",
       "AppointmentID     110527\n",
       "Gender                 2\n",
       "ScheduledDay      103549\n",
       "AppointmentDay        27\n",
       "Age                  104\n",
       "Neighbourhood         81\n",
       "Scholarship            2\n",
       "Hipertension           2\n",
       "Diabetes               2\n",
       "Alcoholism             2\n",
       "Handcap                5\n",
       "SMS_received           2\n",
       "No-show                2\n",
       "dtype: int64"
      ]
     },
     "execution_count": 8,
     "metadata": {},
     "output_type": "execute_result"
    }
   ],
   "source": [
    "# Print the number of unique values for each variable.\n",
    "df_vit.nunique()"
   ]
  },
  {
   "cell_type": "markdown",
   "metadata": {},
   "source": [
    "The `.nunique()` method results is very clarifying, because I realize some `PatientId` appointed more than once."
   ]
  },
  {
   "cell_type": "code",
   "execution_count": 9,
   "metadata": {},
   "outputs": [
    {
     "name": "stdout",
     "output_type": "stream",
     "text": [
      "Appointed more than once: 43.63%\n",
      "Appointed one time: 56.37%\n"
     ]
    }
   ],
   "source": [
    "unique_patientid = round(100*(110527-62299)/110527,2),round(100*(62299)/110527,2)\n",
    "\n",
    "print(\"Appointed more than once: {}%\\nAppointed one time: {}%\".format(*unique_patientid))"
   ]
  },
  {
   "cell_type": "markdown",
   "metadata": {},
   "source": [
    "Let's take a look in the `Age` variable, I want to know the `.max()`, `.min()`, `.mean()` etc, the `.decribe()` shows a very good summary."
   ]
  },
  {
   "cell_type": "code",
   "execution_count": 10,
   "metadata": {},
   "outputs": [
    {
     "data": {
      "text/plain": [
       "count    110527.000000\n",
       "mean         37.088874\n",
       "std          23.110205\n",
       "min          -1.000000\n",
       "25%          18.000000\n",
       "50%          37.000000\n",
       "75%          55.000000\n",
       "max         115.000000\n",
       "Name: Age, dtype: float64"
      ]
     },
     "execution_count": 10,
     "metadata": {},
     "output_type": "execute_result"
    }
   ],
   "source": [
    "# Shows the mean, max, min etc.\n",
    "df_vit['Age'].describe()"
   ]
  },
  {
   "cell_type": "markdown",
   "metadata": {},
   "source": [
    "The minimum age of -1 is quite wierd. So, I will print all the observations with less than zero age."
   ]
  },
  {
   "cell_type": "code",
   "execution_count": 11,
   "metadata": {},
   "outputs": [
    {
     "data": {
      "text/html": [
       "<div>\n",
       "<style scoped>\n",
       "    .dataframe tbody tr th:only-of-type {\n",
       "        vertical-align: middle;\n",
       "    }\n",
       "\n",
       "    .dataframe tbody tr th {\n",
       "        vertical-align: top;\n",
       "    }\n",
       "\n",
       "    .dataframe thead th {\n",
       "        text-align: right;\n",
       "    }\n",
       "</style>\n",
       "<table border=\"1\" class=\"dataframe\">\n",
       "  <thead>\n",
       "    <tr style=\"text-align: right;\">\n",
       "      <th></th>\n",
       "      <th>PatientId</th>\n",
       "      <th>AppointmentID</th>\n",
       "      <th>Gender</th>\n",
       "      <th>ScheduledDay</th>\n",
       "      <th>AppointmentDay</th>\n",
       "      <th>Age</th>\n",
       "      <th>Neighbourhood</th>\n",
       "      <th>Scholarship</th>\n",
       "      <th>Hipertension</th>\n",
       "      <th>Diabetes</th>\n",
       "      <th>Alcoholism</th>\n",
       "      <th>Handcap</th>\n",
       "      <th>SMS_received</th>\n",
       "      <th>No-show</th>\n",
       "    </tr>\n",
       "  </thead>\n",
       "  <tbody>\n",
       "    <tr>\n",
       "      <th>99832</th>\n",
       "      <td>4.659432e+14</td>\n",
       "      <td>5775010</td>\n",
       "      <td>F</td>\n",
       "      <td>2016-06-06T08:58:13Z</td>\n",
       "      <td>2016-06-06T00:00:00Z</td>\n",
       "      <td>-1</td>\n",
       "      <td>ROMÃO</td>\n",
       "      <td>0</td>\n",
       "      <td>0</td>\n",
       "      <td>0</td>\n",
       "      <td>0</td>\n",
       "      <td>0</td>\n",
       "      <td>0</td>\n",
       "      <td>No</td>\n",
       "    </tr>\n",
       "  </tbody>\n",
       "</table>\n",
       "</div>"
      ],
      "text/plain": [
       "          PatientId  AppointmentID Gender          ScheduledDay  \\\n",
       "99832  4.659432e+14        5775010      F  2016-06-06T08:58:13Z   \n",
       "\n",
       "             AppointmentDay  Age Neighbourhood  Scholarship  Hipertension  \\\n",
       "99832  2016-06-06T00:00:00Z   -1         ROMÃO            0             0   \n",
       "\n",
       "       Diabetes  Alcoholism  Handcap  SMS_received No-show  \n",
       "99832         0           0        0             0      No  "
      ]
     },
     "execution_count": 11,
     "metadata": {},
     "output_type": "execute_result"
    }
   ],
   "source": [
    "# Cases of age less than zero.\n",
    "df_vit[df_vit.Age < 0]"
   ]
  },
  {
   "cell_type": "markdown",
   "metadata": {},
   "source": [
    "Only one observation has age below of zero, for this reason, in the next chapter (Data Cleaning) I will remove this observation.\n",
    "\n",
    "I would also like to record when this appointment happens."
   ]
  },
  {
   "cell_type": "code",
   "execution_count": 12,
   "metadata": {},
   "outputs": [
    {
     "name": "stdout",
     "output_type": "stream",
     "text": [
      "nov: 1\n",
      "dez: 61\n",
      "jan: 60\n",
      "fev: 281\n",
      "mar: 3614\n",
      "mar: 25339\n",
      "aph: 67421\n",
      "jun: 13750\n"
     ]
    }
   ],
   "source": [
    "nov = sum(df_vit['ScheduledDay'].str.contains('2015-11'))\n",
    "dez = sum(df_vit['ScheduledDay'].str.contains('2015-12'))\n",
    "jan = sum(df_vit['ScheduledDay'].str.contains('2016-01'))\n",
    "fev = sum(df_vit['ScheduledDay'].str.contains('2016-02'))\n",
    "mar = sum(df_vit['ScheduledDay'].str.contains('2016-03'))\n",
    "aph = sum(df_vit['ScheduledDay'].str.contains('2016-04'))\n",
    "may = sum(df_vit['ScheduledDay'].str.contains('2016-05'))\n",
    "jun = sum(df_vit['ScheduledDay'].str.contains('2016-06'))\n",
    "\n",
    "print(\"nov: {}\\ndez: {}\\njan: {}\\nfev: {}\\nmar: {}\\nmar: {}\\naph: {}\\njun: {}\".format(nov,dez,jan,fev,mar,aph,may,jun))"
   ]
  },
  {
   "cell_type": "markdown",
   "metadata": {},
   "source": [
    "The appointment distribution is very left-skewed, most of the record observation were made in april, march, and june.\n",
    "\n",
    "Move on to `Handcap` variable, which has 5 levels:\n",
    "\n",
    "* 0: No disabilities;\n",
    "* 1: One disability;\n",
    "* 2: Two disabilities, and so on."
   ]
  },
  {
   "cell_type": "code",
   "execution_count": 13,
   "metadata": {},
   "outputs": [
    {
     "data": {
      "text/plain": [
       "0    108286\n",
       "1      2042\n",
       "2       183\n",
       "3        13\n",
       "4         3\n",
       "Name: Handcap, dtype: int64"
      ]
     },
     "execution_count": 13,
     "metadata": {},
     "output_type": "execute_result"
    }
   ],
   "source": [
    "# If a person has disabilities (blind, dumb, etc.)\n",
    "df_vit['Handcap'].value_counts()"
   ]
  },
  {
   "cell_type": "markdown",
   "metadata": {},
   "source": [
    "After that, mostly of the patients do not have disabilities.\n",
    "\n",
    "Let's see the patient gender. "
   ]
  },
  {
   "cell_type": "code",
   "execution_count": 14,
   "metadata": {},
   "outputs": [
    {
     "data": {
      "text/plain": [
       "F    71840\n",
       "M    38687\n",
       "Name: Gender, dtype: int64"
      ]
     },
     "execution_count": 14,
     "metadata": {},
     "output_type": "execute_result"
    }
   ],
   "source": [
    "# Gender\n",
    "df_vit.Gender.value_counts()"
   ]
  },
  {
   "cell_type": "markdown",
   "metadata": {},
   "source": [
    "Women is predominant in this medical appointments.\n",
    "\n",
    "The next variable is `SMS_received`, adopting the interpretation of the creator/maintaner of the dataset, this variable is the number of messages sent/received by the patient."
   ]
  },
  {
   "cell_type": "code",
   "execution_count": 15,
   "metadata": {},
   "outputs": [
    {
     "data": {
      "text/plain": [
       "0    75045\n",
       "1    35482\n",
       "Name: SMS_received, dtype: int64"
      ]
     },
     "execution_count": 15,
     "metadata": {},
     "output_type": "execute_result"
    }
   ],
   "source": [
    "df_vit.SMS_received.value_counts()"
   ]
  },
  {
   "cell_type": "markdown",
   "metadata": {},
   "source": [
    "This variable looks like a boolean, but let's assume as quantity because the maintainer said this is the number of messages sent to the patient.\n",
    "\n",
    "The next 4 variables are all boolean, so I will bind the results into a single table."
   ]
  },
  {
   "cell_type": "code",
   "execution_count": 16,
   "metadata": {},
   "outputs": [
    {
     "data": {
      "text/html": [
       "<div>\n",
       "<style scoped>\n",
       "    .dataframe tbody tr th:only-of-type {\n",
       "        vertical-align: middle;\n",
       "    }\n",
       "\n",
       "    .dataframe tbody tr th {\n",
       "        vertical-align: top;\n",
       "    }\n",
       "\n",
       "    .dataframe thead th {\n",
       "        text-align: right;\n",
       "    }\n",
       "</style>\n",
       "<table border=\"1\" class=\"dataframe\">\n",
       "  <thead>\n",
       "    <tr style=\"text-align: right;\">\n",
       "      <th></th>\n",
       "      <th>Scholarship</th>\n",
       "      <th>Alcoholism</th>\n",
       "      <th>Hipertension</th>\n",
       "      <th>Diabetes</th>\n",
       "    </tr>\n",
       "  </thead>\n",
       "  <tbody>\n",
       "    <tr>\n",
       "      <th>0</th>\n",
       "      <td>99666</td>\n",
       "      <td>107167</td>\n",
       "      <td>88726</td>\n",
       "      <td>102584</td>\n",
       "    </tr>\n",
       "    <tr>\n",
       "      <th>1</th>\n",
       "      <td>10861</td>\n",
       "      <td>3360</td>\n",
       "      <td>21801</td>\n",
       "      <td>7943</td>\n",
       "    </tr>\n",
       "  </tbody>\n",
       "</table>\n",
       "</div>"
      ],
      "text/plain": [
       "   Scholarship  Alcoholism  Hipertension  Diabetes\n",
       "0        99666      107167         88726    102584\n",
       "1        10861        3360         21801      7943"
      ]
     },
     "execution_count": 16,
     "metadata": {},
     "output_type": "execute_result"
    }
   ],
   "source": [
    "# Just o save some lines of report\n",
    "b_family = df_vit['Scholarship'].value_counts() # Counts the number of Scholarship\n",
    "b_alcohol = df_vit['Alcoholism'].value_counts() # Counts the number of Alcoholism\n",
    "b_hiper = df_vit['Hipertension'].value_counts() # Counts the number of Hipertension\n",
    "b_diab = df_vit['Diabetes'].value_counts()      # Counts the number of Diabetes\n",
    "\n",
    "pd.concat([b_family,b_alcohol,b_hiper,b_diab],axis = 1)"
   ]
  },
  {
   "cell_type": "markdown",
   "metadata": {},
   "source": [
    "After this extense Data Assessing, let start the Data Clean.\n",
    "***"
   ]
  },
  {
   "cell_type": "markdown",
   "metadata": {},
   "source": [
    "## Data Cleaning\n",
    "\n",
    "In this chapter I will edit the `df_vit` dataframe modifying some variables types, removing non-desireable observations, etc.\n",
    "\n",
    "Based on the long Data Assessing, this dataframe is quite clean, I just need to convert some variable and remove a non-standard negative age. \n",
    "\n",
    "### Renaming Columns names\n",
    "\n",
    "Renaming the columns will turn the study much easier and fast, due to the uppercase in the middle of the variable names, it's annoying because you must record the exact form to type."
   ]
  },
  {
   "cell_type": "code",
   "execution_count": 17,
   "metadata": {},
   "outputs": [
    {
     "data": {
      "text/plain": [
       "Index(['patientid', 'appointmentid', 'gender', 'scheduledday',\n",
       "       'appointmentday', 'age', 'neighbourhood', 'scholarship', 'hipertension',\n",
       "       'diabetes', 'alcoholism', 'handcap', 'sms_received', 'no_show'],\n",
       "      dtype='object')"
      ]
     },
     "execution_count": 17,
     "metadata": {},
     "output_type": "execute_result"
    }
   ],
   "source": [
    "# The rename methods deals with changing dash to underscores and lower casing everything.\n",
    "df_vit.rename(columns=lambda x: x.strip().lower().replace(\"-\", \"_\"), inplace=True)\n",
    "\n",
    "# Print columns name to ensure the modification.\n",
    "df_vit.columns"
   ]
  },
  {
   "cell_type": "markdown",
   "metadata": {},
   "source": [
    "This minor changing will save me time in future, avoiding me to commit typos problems.\n",
    "\n",
    "### Converting Data Types\n",
    "\n",
    "Now, let's convert `patientid`, `scheduledday`, and `appointmentday`."
   ]
  },
  {
   "cell_type": "code",
   "execution_count": 18,
   "metadata": {},
   "outputs": [],
   "source": [
    "# Convert float to int\n",
    "df_vit.patientid = df_vit.patientid.astype(np.int64) # I am coercing to int64, because the default converts to int32."
   ]
  },
  {
   "cell_type": "markdown",
   "metadata": {},
   "source": [
    "The conversion of `scheduledday` and `appointmentday` will be performed by the `numpy` package."
   ]
  },
  {
   "cell_type": "code",
   "execution_count": 19,
   "metadata": {},
   "outputs": [
    {
     "data": {
      "text/html": [
       "<div>\n",
       "<style scoped>\n",
       "    .dataframe tbody tr th:only-of-type {\n",
       "        vertical-align: middle;\n",
       "    }\n",
       "\n",
       "    .dataframe tbody tr th {\n",
       "        vertical-align: top;\n",
       "    }\n",
       "\n",
       "    .dataframe thead th {\n",
       "        text-align: right;\n",
       "    }\n",
       "</style>\n",
       "<table border=\"1\" class=\"dataframe\">\n",
       "  <thead>\n",
       "    <tr style=\"text-align: right;\">\n",
       "      <th></th>\n",
       "      <th>patientid</th>\n",
       "      <th>appointmentid</th>\n",
       "      <th>gender</th>\n",
       "      <th>scheduledday</th>\n",
       "      <th>appointmentday</th>\n",
       "      <th>age</th>\n",
       "      <th>neighbourhood</th>\n",
       "      <th>scholarship</th>\n",
       "      <th>hipertension</th>\n",
       "      <th>diabetes</th>\n",
       "      <th>alcoholism</th>\n",
       "      <th>handcap</th>\n",
       "      <th>sms_received</th>\n",
       "      <th>no_show</th>\n",
       "    </tr>\n",
       "  </thead>\n",
       "  <tbody>\n",
       "    <tr>\n",
       "      <th>0</th>\n",
       "      <td>29872499824296</td>\n",
       "      <td>5642903</td>\n",
       "      <td>F</td>\n",
       "      <td>2016-04-29 18:38:08</td>\n",
       "      <td>2016-04-29</td>\n",
       "      <td>62</td>\n",
       "      <td>JARDIM DA PENHA</td>\n",
       "      <td>0</td>\n",
       "      <td>1</td>\n",
       "      <td>0</td>\n",
       "      <td>0</td>\n",
       "      <td>0</td>\n",
       "      <td>0</td>\n",
       "      <td>No</td>\n",
       "    </tr>\n",
       "    <tr>\n",
       "      <th>1</th>\n",
       "      <td>558997776694438</td>\n",
       "      <td>5642503</td>\n",
       "      <td>M</td>\n",
       "      <td>2016-04-29 16:08:27</td>\n",
       "      <td>2016-04-29</td>\n",
       "      <td>56</td>\n",
       "      <td>JARDIM DA PENHA</td>\n",
       "      <td>0</td>\n",
       "      <td>0</td>\n",
       "      <td>0</td>\n",
       "      <td>0</td>\n",
       "      <td>0</td>\n",
       "      <td>0</td>\n",
       "      <td>No</td>\n",
       "    </tr>\n",
       "    <tr>\n",
       "      <th>2</th>\n",
       "      <td>4262962299951</td>\n",
       "      <td>5642549</td>\n",
       "      <td>F</td>\n",
       "      <td>2016-04-29 16:19:04</td>\n",
       "      <td>2016-04-29</td>\n",
       "      <td>62</td>\n",
       "      <td>MATA DA PRAIA</td>\n",
       "      <td>0</td>\n",
       "      <td>0</td>\n",
       "      <td>0</td>\n",
       "      <td>0</td>\n",
       "      <td>0</td>\n",
       "      <td>0</td>\n",
       "      <td>No</td>\n",
       "    </tr>\n",
       "    <tr>\n",
       "      <th>3</th>\n",
       "      <td>867951213174</td>\n",
       "      <td>5642828</td>\n",
       "      <td>F</td>\n",
       "      <td>2016-04-29 17:29:31</td>\n",
       "      <td>2016-04-29</td>\n",
       "      <td>8</td>\n",
       "      <td>PONTAL DE CAMBURI</td>\n",
       "      <td>0</td>\n",
       "      <td>0</td>\n",
       "      <td>0</td>\n",
       "      <td>0</td>\n",
       "      <td>0</td>\n",
       "      <td>0</td>\n",
       "      <td>No</td>\n",
       "    </tr>\n",
       "    <tr>\n",
       "      <th>4</th>\n",
       "      <td>8841186448183</td>\n",
       "      <td>5642494</td>\n",
       "      <td>F</td>\n",
       "      <td>2016-04-29 16:07:23</td>\n",
       "      <td>2016-04-29</td>\n",
       "      <td>56</td>\n",
       "      <td>JARDIM DA PENHA</td>\n",
       "      <td>0</td>\n",
       "      <td>1</td>\n",
       "      <td>1</td>\n",
       "      <td>0</td>\n",
       "      <td>0</td>\n",
       "      <td>0</td>\n",
       "      <td>No</td>\n",
       "    </tr>\n",
       "  </tbody>\n",
       "</table>\n",
       "</div>"
      ],
      "text/plain": [
       "         patientid  appointmentid gender        scheduledday appointmentday  \\\n",
       "0   29872499824296        5642903      F 2016-04-29 18:38:08     2016-04-29   \n",
       "1  558997776694438        5642503      M 2016-04-29 16:08:27     2016-04-29   \n",
       "2    4262962299951        5642549      F 2016-04-29 16:19:04     2016-04-29   \n",
       "3     867951213174        5642828      F 2016-04-29 17:29:31     2016-04-29   \n",
       "4    8841186448183        5642494      F 2016-04-29 16:07:23     2016-04-29   \n",
       "\n",
       "   age      neighbourhood  scholarship  hipertension  diabetes  alcoholism  \\\n",
       "0   62    JARDIM DA PENHA            0             1         0           0   \n",
       "1   56    JARDIM DA PENHA            0             0         0           0   \n",
       "2   62      MATA DA PRAIA            0             0         0           0   \n",
       "3    8  PONTAL DE CAMBURI            0             0         0           0   \n",
       "4   56    JARDIM DA PENHA            0             1         1           0   \n",
       "\n",
       "   handcap  sms_received no_show  \n",
       "0        0             0      No  \n",
       "1        0             0      No  \n",
       "2        0             0      No  \n",
       "3        0             0      No  \n",
       "4        0             0      No  "
      ]
     },
     "execution_count": 19,
     "metadata": {},
     "output_type": "execute_result"
    }
   ],
   "source": [
    "# Converting the ScheduledDay to date.\n",
    "df_vit.scheduledday = df_vit.scheduledday.apply(np.datetime64)\n",
    "\n",
    "# Converting the AppointmentDay to date.\n",
    "df_vit.appointmentday = df_vit.appointmentday.apply(np.datetime64)\n",
    "\n",
    "df_vit.head()"
   ]
  },
  {
   "cell_type": "markdown",
   "metadata": {},
   "source": [
    "Both datetime variables are converted but have minor differences.\n",
    "\n",
    "* `scheduledday`: It is OK;\n",
    "* `appointmentday`: Lose the hours, minutes, and seconds, probably is due to all the cases have the same time `00:00:00`.\n",
    "\n",
    "Now, let's convert the categorical variable, such as:\n",
    "\n",
    "* `gender`: male and female categories;\n",
    "* `no-show`: yes or no."
   ]
  },
  {
   "cell_type": "code",
   "execution_count": 20,
   "metadata": {},
   "outputs": [],
   "source": [
    "# Converting the No-show variable as categorical\n",
    "df_vit['no_show'] = pd.Categorical(df_vit['no_show'])\n",
    "\n",
    "# Converting the Gender variable as categorical\n",
    "df_vit['gender'] = pd.Categorical(df_vit['gender'])"
   ]
  },
  {
   "cell_type": "markdown",
   "metadata": {},
   "source": [
    "Finally, I will convert all boolean variables."
   ]
  },
  {
   "cell_type": "code",
   "execution_count": 21,
   "metadata": {},
   "outputs": [],
   "source": [
    "# Converting int64 variables to bool.\n",
    "df_vit.scholarship = df_vit.scholarship.apply(bool)\n",
    "df_vit.hipertension = df_vit.hipertension.apply(bool)\n",
    "df_vit.diabetes = df_vit.diabetes.apply(bool)\n",
    "df_vit.alcoholism = df_vit.alcoholism.apply(bool)"
   ]
  },
  {
   "cell_type": "markdown",
   "metadata": {},
   "source": [
    "Let's print the `.info()` once again to ensure the conversion."
   ]
  },
  {
   "cell_type": "code",
   "execution_count": 22,
   "metadata": {},
   "outputs": [
    {
     "name": "stdout",
     "output_type": "stream",
     "text": [
      "<class 'pandas.core.frame.DataFrame'>\n",
      "RangeIndex: 110527 entries, 0 to 110526\n",
      "Data columns (total 14 columns):\n",
      "patientid         110527 non-null int64\n",
      "appointmentid     110527 non-null int64\n",
      "gender            110527 non-null category\n",
      "scheduledday      110527 non-null datetime64[ns]\n",
      "appointmentday    110527 non-null datetime64[ns]\n",
      "age               110527 non-null int64\n",
      "neighbourhood     110527 non-null object\n",
      "scholarship       110527 non-null bool\n",
      "hipertension      110527 non-null bool\n",
      "diabetes          110527 non-null bool\n",
      "alcoholism        110527 non-null bool\n",
      "handcap           110527 non-null int64\n",
      "sms_received      110527 non-null int64\n",
      "no_show           110527 non-null category\n",
      "dtypes: bool(4), category(2), datetime64[ns](2), int64(5), object(1)\n",
      "memory usage: 7.4+ MB\n"
     ]
    }
   ],
   "source": [
    "df_vit.info()"
   ]
  },
  {
   "cell_type": "markdown",
   "metadata": {},
   "source": [
    "### Data Filtering\n",
    "\n",
    "I will remove all observations with age below of zero because it is not correct. I know there is only one observation with this characteristics, it is not likely this deletion will affect all the analysis."
   ]
  },
  {
   "cell_type": "code",
   "execution_count": 23,
   "metadata": {},
   "outputs": [
    {
     "name": "stdout",
     "output_type": "stream",
     "text": [
      "Number of rows: 110526\n"
     ]
    }
   ],
   "source": [
    "# Cases of Age less than zero. I have updated my variable name to lowercase age.\n",
    "df_vit = df_vit[df_vit.age >= 0]\n",
    "\n",
    "# Print the number of rows\n",
    "print(\"Number of rows: {}\".format(df_vit.shape[0]))"
   ]
  },
  {
   "cell_type": "markdown",
   "metadata": {},
   "source": [
    "As I expected, the number of rows has decreased one unit.\n",
    "\n",
    "Here, I finished the Data Wrangling.\n",
    "***"
   ]
  },
  {
   "cell_type": "markdown",
   "metadata": {},
   "source": [
    "## Exploratory Data Analysis <a id='eda'></a>\n",
    "\n",
    "Sadly, I did not come up with a good and interesting question, but I will start to visualize some plot. As a guide to my Exploratory Analysis, I will try to find any relationship between the patient who have appointed more than one time and no-showed.\n",
    "\n",
    "First, I want to know how is the percentage of no-show of all appointments."
   ]
  },
  {
   "cell_type": "code",
   "execution_count": 51,
   "metadata": {},
   "outputs": [
    {
     "name": "stdout",
     "output_type": "stream",
     "text": [
      "Appointments with Show-up: 88207\n",
      "Appointments with No-show: 22319\n",
      "\n",
      "No-show Percentage: 20.0%\n"
     ]
    }
   ],
   "source": [
    "no_show_p = df_vit['no_show'].value_counts() # First show-up and second no-show.\n",
    "\n",
    "print(\"Appointments with Show-up: {}\\nAppointments with No-show: {}\\n\".format(*no_show_p))\n",
    "print(\"No-show Percentage: {}%\".format(round(100*no_show_p[1]/sum(no_show_p)),2))"
   ]
  },
  {
   "cell_type": "markdown",
   "metadata": {},
   "source": [
    "The no-show rate is 20.0% for all appointment, but I know that some patients has appointment more than once. Let's get deep in this question plotting the histogram."
   ]
  },
  {
   "cell_type": "code",
   "execution_count": 125,
   "metadata": {},
   "outputs": [
    {
     "data": {
      "image/png": "[encoded data removed]",
      "text/plain": [
       "<Figure size 1080x288 with 1 Axes>"
      ]
     },
     "metadata": {
      "needs_background": "light"
     },
     "output_type": "display_data"
    }
   ],
   "source": [
    "# Histogram of patient id.\n",
    "df_vit['patientid'].value_counts().hist(bins = 10, figsize= [15,4]);\n",
    "plt.title('Vitória City Appointments per Patient ID Histogram')\n",
    "plt.xlabel('Appointments per Patient ID')\n",
    "plt.ylabel('Frequency');"
   ]
  },
  {
   "cell_type": "markdown",
   "metadata": {},
   "source": [
    "Although, it seems to be clearly that only few patientid has several appointments. I will plot the patient id with most appointments to analyse this in details."
   ]
  },
  {
   "cell_type": "code",
   "execution_count": 120,
   "metadata": {},
   "outputs": [
    {
     "data": {
      "text/plain": [
       "822145925426128    88\n",
       "99637671331        84\n",
       "26886125921145     70\n",
       "33534783483176     65\n",
       "258424392677       62\n",
       "Name: patientid, dtype: int64"
      ]
     },
     "execution_count": 120,
     "metadata": {},
     "output_type": "execute_result"
    }
   ],
   "source": [
    "# This is the patientid with multiple appointments.\n",
    "df_vit['patientid'].value_counts().head(5)"
   ]
  },
  {
   "cell_type": "markdown",
   "metadata": {},
   "source": [
    "As you can see, there are some patients with high frequency, for this reason, I would like to test the theory of [80/20][1], so I will `.sum()` the first 20% of patients with higher frequency.\n",
    "\n",
    "[1]: https://en.wikipedia.org/wiki/Pareto_principle"
   ]
  },
  {
   "cell_type": "code",
   "execution_count": 119,
   "metadata": {},
   "outputs": [
    {
     "name": "stdout",
     "output_type": "stream",
     "text": [
      "Number of appointments    : 48767\n",
      "Number of appointments (%): 44%\n"
     ]
    }
   ],
   "source": [
    "# Number of unique patient id \n",
    "unq_pat = df_vit['patientid'].nunique()\n",
    "\n",
    "# Summation of the 20% patients with higher number of appointments\n",
    "res = sum(df_vit['patientid'].value_counts().head(int(unq_pat * 0.20)))   # I use the int() to ensure a integer number as index.\n",
    "\n",
    "# Print\n",
    "print('Number of appointments    : {}'.format(res))\n",
    "print('Number of appointments (%): {}%'.format(round(100*res/110526),2))"
   ]
  },
  {
   "cell_type": "markdown",
   "metadata": {},
   "source": [
    "Very interesting 80/20 theory, the 20% with higher frequency are responsible for 44% of the total appointments.\n",
    "\n",
    "Let's divide the dataset into two groups:\n",
    "\n",
    "* First group the 20% (`df_20p`);\n",
    "* Second group the rest (`df_80p`)."
   ]
  },
  {
   "cell_type": "code",
   "execution_count": 131,
   "metadata": {},
   "outputs": [
    {
     "data": {
      "text/plain": [
       "array([ 29872499824296, 558997776694438,   4262962299951, ...,\n",
       "        72633149253362, 996997666245785,  15576631729893], dtype=int64)"
      ]
     },
     "execution_count": 131,
     "metadata": {},
     "output_type": "execute_result"
    }
   ],
   "source": [
    "df_vit['patientid'].unique()"
   ]
  },
  {
   "cell_type": "markdown",
   "metadata": {},
   "source": []
  },
  {
   "cell_type": "code",
   "execution_count": 142,
   "metadata": {},
   "outputs": [
    {
     "data": {
      "text/plain": [
       "61759"
      ]
     },
     "execution_count": 142,
     "metadata": {},
     "output_type": "execute_result"
    }
   ],
   "source": [
    "sum(list(df_vit['patientid'].value_counts())[12459:])"
   ]
  },
  {
   "cell_type": "code",
   "execution_count": 143,
   "metadata": {},
   "outputs": [
    {
     "data": {
      "text/plain": [
       "48767"
      ]
     },
     "execution_count": 143,
     "metadata": {},
     "output_type": "execute_result"
    }
   ],
   "source": [
    "sum(list(df_vit['patientid'].value_counts())[:12459])"
   ]
  },
  {
   "cell_type": "code",
   "execution_count": 144,
   "metadata": {},
   "outputs": [
    {
     "data": {
      "text/plain": [
       "110526"
      ]
     },
     "execution_count": 144,
     "metadata": {},
     "output_type": "execute_result"
    }
   ],
   "source": [
    "61759+48767"
   ]
  },
  {
   "cell_type": "code",
   "execution_count": 137,
   "metadata": {},
   "outputs": [
    {
     "data": {
      "text/plain": [
       "12459"
      ]
     },
     "execution_count": 137,
     "metadata": {},
     "output_type": "execute_result"
    }
   ],
   "source": [
    "int(unq_pat * 0.20)"
   ]
  },
  {
   "cell_type": "code",
   "execution_count": 135,
   "metadata": {},
   "outputs": [
    {
     "data": {
      "text/plain": [
       "822145925426128    88\n",
       "99637671331        84\n",
       "26886125921145     70\n",
       "33534783483176     65\n",
       "258424392677       62\n",
       "75797461494159     62\n",
       "871374938638855    62\n",
       "6264198675331      62\n",
       "66844879846766     57\n",
       "872278549442       55\n",
       "89239687393655     54\n",
       "8435223536         51\n",
       "853439686798559    50\n",
       "14479974122994     46\n",
       "65433599726992     46\n",
       "81894521843749     42\n",
       "9452745294842      42\n",
       "188232341789524    40\n",
       "2271579924275      38\n",
       "9496196639835      38\n",
       "13364929297498     37\n",
       "1484143378533      35\n",
       "88834999836575     34\n",
       "986162815579582    34\n",
       "712458866975343    33\n",
       "416755661551767    30\n",
       "6128878448536      30\n",
       "81213966782532     29\n",
       "8634164126317      24\n",
       "1198157171975      23\n",
       "                   ..\n",
       "98683352133221      1\n",
       "5394313945329       1\n",
       "48689197872217      1\n",
       "9675119787546       1\n",
       "763619586595        1\n",
       "867726299814126     1\n",
       "77425139319169      1\n",
       "39423418767468      1\n",
       "961392519656997     1\n",
       "737858311826761     1\n",
       "271517596623238     1\n",
       "8249496395977       1\n",
       "137479426839        1\n",
       "6529316371746       1\n",
       "3212962263947       1\n",
       "198193457888        1\n",
       "1425822256863       1\n",
       "216133833234618     1\n",
       "37589497678822      1\n",
       "31638467315         1\n",
       "89279955685         1\n",
       "5883897911366       1\n",
       "56326578686847      1\n",
       "869587212288428     1\n",
       "735858598529        1\n",
       "2886912523138       1\n",
       "68129842443312      1\n",
       "99264711372         1\n",
       "2212945531847       1\n",
       "57863365759569      1\n",
       "Name: patientid, Length: 62298, dtype: int64"
      ]
     },
     "execution_count": 135,
     "metadata": {},
     "output_type": "execute_result"
    }
   ],
   "source": [
    "df_vit['patientid'].value_counts()"
   ]
  },
  {
   "cell_type": "code",
   "execution_count": 24,
   "metadata": {
    "scrolled": true
   },
   "outputs": [
    {
     "data": {
      "text/plain": [
       "False    6056\n",
       "True      430\n",
       "Name: scholarship, dtype: int64"
      ]
     },
     "execution_count": 24,
     "metadata": {},
     "output_type": "execute_result"
    }
   ],
   "source": [
    "# Those hipertension and diabetes which one has Bolsa Familia?\n",
    "df_vit[(df_vit['diabetes'] == 1) & (df_vit['hipertension'] == 1)]['scholarship'].value_counts()"
   ]
  },
  {
   "cell_type": "code",
   "execution_count": 25,
   "metadata": {},
   "outputs": [
    {
     "data": {
      "text/plain": [
       "patientid         6486\n",
       "appointmentid     6486\n",
       "gender            6486\n",
       "scheduledday      6486\n",
       "appointmentday    6486\n",
       "dtype: int64"
      ]
     },
     "execution_count": 25,
     "metadata": {},
     "output_type": "execute_result"
    }
   ],
   "source": [
    "# how many hipertension and diabetes?\n",
    "df_vit[(df_vit['diabetes'] == 1) & (df_vit['hipertension'] == 1)].count().head()"
   ]
  },
  {
   "cell_type": "code",
   "execution_count": 26,
   "metadata": {},
   "outputs": [
    {
     "data": {
      "text/plain": [
       "No     88207\n",
       "Yes    22319\n",
       "Name: no_show, dtype: int64"
      ]
     },
     "execution_count": 26,
     "metadata": {},
     "output_type": "execute_result"
    }
   ],
   "source": [
    "df_vit.no_show.value_counts()"
   ]
  },
  {
   "cell_type": "code",
   "execution_count": 27,
   "metadata": {},
   "outputs": [
    {
     "ename": "KeyError",
     "evalue": "'scheduledDay'",
     "output_type": "error",
     "traceback": [
      "\u001b[1;31m---------------------------------------------------------------------------\u001b[0m",
      "\u001b[1;31mKeyError\u001b[0m                                  Traceback (most recent call last)",
      "\u001b[1;32m~\\Anaconda3\\lib\\site-packages\\pandas\\core\\indexes\\base.py\u001b[0m in \u001b[0;36mget_loc\u001b[1;34m(self, key, method, tolerance)\u001b[0m\n\u001b[0;32m   3077\u001b[0m             \u001b[1;32mtry\u001b[0m\u001b[1;33m:\u001b[0m\u001b[1;33m\u001b[0m\u001b[0m\n\u001b[1;32m-> 3078\u001b[1;33m                 \u001b[1;32mreturn\u001b[0m \u001b[0mself\u001b[0m\u001b[1;33m.\u001b[0m\u001b[0m_engine\u001b[0m\u001b[1;33m.\u001b[0m\u001b[0mget_loc\u001b[0m\u001b[1;33m(\u001b[0m\u001b[0mkey\u001b[0m\u001b[1;33m)\u001b[0m\u001b[1;33m\u001b[0m\u001b[0m\n\u001b[0m\u001b[0;32m   3079\u001b[0m             \u001b[1;32mexcept\u001b[0m \u001b[0mKeyError\u001b[0m\u001b[1;33m:\u001b[0m\u001b[1;33m\u001b[0m\u001b[0m\n",
      "\u001b[1;32mpandas\\_libs\\index.pyx\u001b[0m in \u001b[0;36mpandas._libs.index.IndexEngine.get_loc\u001b[1;34m()\u001b[0m\n",
      "\u001b[1;32mpandas\\_libs\\index.pyx\u001b[0m in \u001b[0;36mpandas._libs.index.IndexEngine.get_loc\u001b[1;34m()\u001b[0m\n",
      "\u001b[1;32mpandas\\_libs\\hashtable_class_helper.pxi\u001b[0m in \u001b[0;36mpandas._libs.hashtable.PyObjectHashTable.get_item\u001b[1;34m()\u001b[0m\n",
      "\u001b[1;32mpandas\\_libs\\hashtable_class_helper.pxi\u001b[0m in \u001b[0;36mpandas._libs.hashtable.PyObjectHashTable.get_item\u001b[1;34m()\u001b[0m\n",
      "\u001b[1;31mKeyError\u001b[0m: 'scheduledDay'",
      "\nDuring handling of the above exception, another exception occurred:\n",
      "\u001b[1;31mKeyError\u001b[0m                                  Traceback (most recent call last)",
      "\u001b[1;32m<ipython-input-27-a75cd70a1063>\u001b[0m in \u001b[0;36m<module>\u001b[1;34m()\u001b[0m\n\u001b[1;32m----> 1\u001b[1;33m \u001b[0mdf_vit\u001b[0m\u001b[1;33m[\u001b[0m\u001b[0mdf_vit\u001b[0m\u001b[1;33m[\u001b[0m\u001b[1;34m'scheduledDay'\u001b[0m\u001b[1;33m]\u001b[0m\u001b[1;33m.\u001b[0m\u001b[0mstr\u001b[0m\u001b[1;33m.\u001b[0m\u001b[0mcontains\u001b[0m\u001b[1;33m(\u001b[0m\u001b[1;34m'2016-04'\u001b[0m\u001b[1;33m)\u001b[0m\u001b[1;33m]\u001b[0m\u001b[1;33m.\u001b[0m\u001b[0mNeighbourhood\u001b[0m\u001b[1;33m.\u001b[0m\u001b[0mvalue_counts\u001b[0m\u001b[1;33m(\u001b[0m\u001b[1;33m)\u001b[0m\u001b[1;33m.\u001b[0m\u001b[0mhead\u001b[0m\u001b[1;33m(\u001b[0m\u001b[1;36m5\u001b[0m\u001b[1;33m)\u001b[0m\u001b[1;33m\u001b[0m\u001b[0m\n\u001b[0m",
      "\u001b[1;32m~\\Anaconda3\\lib\\site-packages\\pandas\\core\\frame.py\u001b[0m in \u001b[0;36m__getitem__\u001b[1;34m(self, key)\u001b[0m\n\u001b[0;32m   2686\u001b[0m             \u001b[1;32mreturn\u001b[0m \u001b[0mself\u001b[0m\u001b[1;33m.\u001b[0m\u001b[0m_getitem_multilevel\u001b[0m\u001b[1;33m(\u001b[0m\u001b[0mkey\u001b[0m\u001b[1;33m)\u001b[0m\u001b[1;33m\u001b[0m\u001b[0m\n\u001b[0;32m   2687\u001b[0m         \u001b[1;32melse\u001b[0m\u001b[1;33m:\u001b[0m\u001b[1;33m\u001b[0m\u001b[0m\n\u001b[1;32m-> 2688\u001b[1;33m             \u001b[1;32mreturn\u001b[0m \u001b[0mself\u001b[0m\u001b[1;33m.\u001b[0m\u001b[0m_getitem_column\u001b[0m\u001b[1;33m(\u001b[0m\u001b[0mkey\u001b[0m\u001b[1;33m)\u001b[0m\u001b[1;33m\u001b[0m\u001b[0m\n\u001b[0m\u001b[0;32m   2689\u001b[0m \u001b[1;33m\u001b[0m\u001b[0m\n\u001b[0;32m   2690\u001b[0m     \u001b[1;32mdef\u001b[0m \u001b[0m_getitem_column\u001b[0m\u001b[1;33m(\u001b[0m\u001b[0mself\u001b[0m\u001b[1;33m,\u001b[0m \u001b[0mkey\u001b[0m\u001b[1;33m)\u001b[0m\u001b[1;33m:\u001b[0m\u001b[1;33m\u001b[0m\u001b[0m\n",
      "\u001b[1;32m~\\Anaconda3\\lib\\site-packages\\pandas\\core\\frame.py\u001b[0m in \u001b[0;36m_getitem_column\u001b[1;34m(self, key)\u001b[0m\n\u001b[0;32m   2693\u001b[0m         \u001b[1;31m# get column\u001b[0m\u001b[1;33m\u001b[0m\u001b[1;33m\u001b[0m\u001b[0m\n\u001b[0;32m   2694\u001b[0m         \u001b[1;32mif\u001b[0m \u001b[0mself\u001b[0m\u001b[1;33m.\u001b[0m\u001b[0mcolumns\u001b[0m\u001b[1;33m.\u001b[0m\u001b[0mis_unique\u001b[0m\u001b[1;33m:\u001b[0m\u001b[1;33m\u001b[0m\u001b[0m\n\u001b[1;32m-> 2695\u001b[1;33m             \u001b[1;32mreturn\u001b[0m \u001b[0mself\u001b[0m\u001b[1;33m.\u001b[0m\u001b[0m_get_item_cache\u001b[0m\u001b[1;33m(\u001b[0m\u001b[0mkey\u001b[0m\u001b[1;33m)\u001b[0m\u001b[1;33m\u001b[0m\u001b[0m\n\u001b[0m\u001b[0;32m   2696\u001b[0m \u001b[1;33m\u001b[0m\u001b[0m\n\u001b[0;32m   2697\u001b[0m         \u001b[1;31m# duplicate columns & possible reduce dimensionality\u001b[0m\u001b[1;33m\u001b[0m\u001b[1;33m\u001b[0m\u001b[0m\n",
      "\u001b[1;32m~\\Anaconda3\\lib\\site-packages\\pandas\\core\\generic.py\u001b[0m in \u001b[0;36m_get_item_cache\u001b[1;34m(self, item)\u001b[0m\n\u001b[0;32m   2487\u001b[0m         \u001b[0mres\u001b[0m \u001b[1;33m=\u001b[0m \u001b[0mcache\u001b[0m\u001b[1;33m.\u001b[0m\u001b[0mget\u001b[0m\u001b[1;33m(\u001b[0m\u001b[0mitem\u001b[0m\u001b[1;33m)\u001b[0m\u001b[1;33m\u001b[0m\u001b[0m\n\u001b[0;32m   2488\u001b[0m         \u001b[1;32mif\u001b[0m \u001b[0mres\u001b[0m \u001b[1;32mis\u001b[0m \u001b[1;32mNone\u001b[0m\u001b[1;33m:\u001b[0m\u001b[1;33m\u001b[0m\u001b[0m\n\u001b[1;32m-> 2489\u001b[1;33m             \u001b[0mvalues\u001b[0m \u001b[1;33m=\u001b[0m \u001b[0mself\u001b[0m\u001b[1;33m.\u001b[0m\u001b[0m_data\u001b[0m\u001b[1;33m.\u001b[0m\u001b[0mget\u001b[0m\u001b[1;33m(\u001b[0m\u001b[0mitem\u001b[0m\u001b[1;33m)\u001b[0m\u001b[1;33m\u001b[0m\u001b[0m\n\u001b[0m\u001b[0;32m   2490\u001b[0m             \u001b[0mres\u001b[0m \u001b[1;33m=\u001b[0m \u001b[0mself\u001b[0m\u001b[1;33m.\u001b[0m\u001b[0m_box_item_values\u001b[0m\u001b[1;33m(\u001b[0m\u001b[0mitem\u001b[0m\u001b[1;33m,\u001b[0m \u001b[0mvalues\u001b[0m\u001b[1;33m)\u001b[0m\u001b[1;33m\u001b[0m\u001b[0m\n\u001b[0;32m   2491\u001b[0m             \u001b[0mcache\u001b[0m\u001b[1;33m[\u001b[0m\u001b[0mitem\u001b[0m\u001b[1;33m]\u001b[0m \u001b[1;33m=\u001b[0m \u001b[0mres\u001b[0m\u001b[1;33m\u001b[0m\u001b[0m\n",
      "\u001b[1;32m~\\Anaconda3\\lib\\site-packages\\pandas\\core\\internals.py\u001b[0m in \u001b[0;36mget\u001b[1;34m(self, item, fastpath)\u001b[0m\n\u001b[0;32m   4113\u001b[0m \u001b[1;33m\u001b[0m\u001b[0m\n\u001b[0;32m   4114\u001b[0m             \u001b[1;32mif\u001b[0m \u001b[1;32mnot\u001b[0m \u001b[0misna\u001b[0m\u001b[1;33m(\u001b[0m\u001b[0mitem\u001b[0m\u001b[1;33m)\u001b[0m\u001b[1;33m:\u001b[0m\u001b[1;33m\u001b[0m\u001b[0m\n\u001b[1;32m-> 4115\u001b[1;33m                 \u001b[0mloc\u001b[0m \u001b[1;33m=\u001b[0m \u001b[0mself\u001b[0m\u001b[1;33m.\u001b[0m\u001b[0mitems\u001b[0m\u001b[1;33m.\u001b[0m\u001b[0mget_loc\u001b[0m\u001b[1;33m(\u001b[0m\u001b[0mitem\u001b[0m\u001b[1;33m)\u001b[0m\u001b[1;33m\u001b[0m\u001b[0m\n\u001b[0m\u001b[0;32m   4116\u001b[0m             \u001b[1;32melse\u001b[0m\u001b[1;33m:\u001b[0m\u001b[1;33m\u001b[0m\u001b[0m\n\u001b[0;32m   4117\u001b[0m                 \u001b[0mindexer\u001b[0m \u001b[1;33m=\u001b[0m \u001b[0mnp\u001b[0m\u001b[1;33m.\u001b[0m\u001b[0marange\u001b[0m\u001b[1;33m(\u001b[0m\u001b[0mlen\u001b[0m\u001b[1;33m(\u001b[0m\u001b[0mself\u001b[0m\u001b[1;33m.\u001b[0m\u001b[0mitems\u001b[0m\u001b[1;33m)\u001b[0m\u001b[1;33m)\u001b[0m\u001b[1;33m[\u001b[0m\u001b[0misna\u001b[0m\u001b[1;33m(\u001b[0m\u001b[0mself\u001b[0m\u001b[1;33m.\u001b[0m\u001b[0mitems\u001b[0m\u001b[1;33m)\u001b[0m\u001b[1;33m]\u001b[0m\u001b[1;33m\u001b[0m\u001b[0m\n",
      "\u001b[1;32m~\\Anaconda3\\lib\\site-packages\\pandas\\core\\indexes\\base.py\u001b[0m in \u001b[0;36mget_loc\u001b[1;34m(self, key, method, tolerance)\u001b[0m\n\u001b[0;32m   3078\u001b[0m                 \u001b[1;32mreturn\u001b[0m \u001b[0mself\u001b[0m\u001b[1;33m.\u001b[0m\u001b[0m_engine\u001b[0m\u001b[1;33m.\u001b[0m\u001b[0mget_loc\u001b[0m\u001b[1;33m(\u001b[0m\u001b[0mkey\u001b[0m\u001b[1;33m)\u001b[0m\u001b[1;33m\u001b[0m\u001b[0m\n\u001b[0;32m   3079\u001b[0m             \u001b[1;32mexcept\u001b[0m \u001b[0mKeyError\u001b[0m\u001b[1;33m:\u001b[0m\u001b[1;33m\u001b[0m\u001b[0m\n\u001b[1;32m-> 3080\u001b[1;33m                 \u001b[1;32mreturn\u001b[0m \u001b[0mself\u001b[0m\u001b[1;33m.\u001b[0m\u001b[0m_engine\u001b[0m\u001b[1;33m.\u001b[0m\u001b[0mget_loc\u001b[0m\u001b[1;33m(\u001b[0m\u001b[0mself\u001b[0m\u001b[1;33m.\u001b[0m\u001b[0m_maybe_cast_indexer\u001b[0m\u001b[1;33m(\u001b[0m\u001b[0mkey\u001b[0m\u001b[1;33m)\u001b[0m\u001b[1;33m)\u001b[0m\u001b[1;33m\u001b[0m\u001b[0m\n\u001b[0m\u001b[0;32m   3081\u001b[0m \u001b[1;33m\u001b[0m\u001b[0m\n\u001b[0;32m   3082\u001b[0m         \u001b[0mindexer\u001b[0m \u001b[1;33m=\u001b[0m \u001b[0mself\u001b[0m\u001b[1;33m.\u001b[0m\u001b[0mget_indexer\u001b[0m\u001b[1;33m(\u001b[0m\u001b[1;33m[\u001b[0m\u001b[0mkey\u001b[0m\u001b[1;33m]\u001b[0m\u001b[1;33m,\u001b[0m \u001b[0mmethod\u001b[0m\u001b[1;33m=\u001b[0m\u001b[0mmethod\u001b[0m\u001b[1;33m,\u001b[0m \u001b[0mtolerance\u001b[0m\u001b[1;33m=\u001b[0m\u001b[0mtolerance\u001b[0m\u001b[1;33m)\u001b[0m\u001b[1;33m\u001b[0m\u001b[0m\n",
      "\u001b[1;32mpandas\\_libs\\index.pyx\u001b[0m in \u001b[0;36mpandas._libs.index.IndexEngine.get_loc\u001b[1;34m()\u001b[0m\n",
      "\u001b[1;32mpandas\\_libs\\index.pyx\u001b[0m in \u001b[0;36mpandas._libs.index.IndexEngine.get_loc\u001b[1;34m()\u001b[0m\n",
      "\u001b[1;32mpandas\\_libs\\hashtable_class_helper.pxi\u001b[0m in \u001b[0;36mpandas._libs.hashtable.PyObjectHashTable.get_item\u001b[1;34m()\u001b[0m\n",
      "\u001b[1;32mpandas\\_libs\\hashtable_class_helper.pxi\u001b[0m in \u001b[0;36mpandas._libs.hashtable.PyObjectHashTable.get_item\u001b[1;34m()\u001b[0m\n",
      "\u001b[1;31mKeyError\u001b[0m: 'scheduledDay'"
     ]
    }
   ],
   "source": [
    "df_vit[df_vit['scheduledDay'].str.contains('2016-04')].Neighbourhood.value_counts().head(5)"
   ]
  },
  {
   "cell_type": "code",
   "execution_count": null,
   "metadata": {},
   "outputs": [],
   "source": [
    "# month of appointment - this case may\n",
    "df_vit.AppointmentDay.value_counts().head(5)"
   ]
  },
  {
   "cell_type": "markdown",
   "metadata": {},
   "source": [
    "A better way to understand this table is plotting a histogram, to see the distribution."
   ]
  },
  {
   "cell_type": "code",
   "execution_count": null,
   "metadata": {},
   "outputs": [],
   "source": [
    "# Histogram of age\n",
    "df_vit['age'].hist(bins=50)\n",
    "plt.title('Vitória City Age Histogram')\n",
    "plt.xlabel('Age')\n",
    "plt.ylabel('Frequency');"
   ]
  },
  {
   "cell_type": "markdown",
   "metadata": {},
   "source": [
    "After that, mostly of the patients do not have disabilities, only 2% of the total patients has at leas one disability.\n",
    "\n",
    "**ATENTION:** "
   ]
  },
  {
   "cell_type": "code",
   "execution_count": null,
   "metadata": {},
   "outputs": [],
   "source": [
    "handcap_p = 100*sum(df_bolsa['Handcap'].value_counts()[1:])/df_bolsa['Handcap'].value_counts()[0]\n",
    "\n",
    "print(\"Percentage of patient with at least one disability: {}%\".format(round(handcap_p,2)))"
   ]
  },
  {
   "cell_type": "code",
   "execution_count": null,
   "metadata": {},
   "outputs": [],
   "source": [
    "df_vit[df_bolsa['Neighbourhood'] == 'MARIA ORTIZ'].head(5)"
   ]
  },
  {
   "cell_type": "code",
   "execution_count": null,
   "metadata": {},
   "outputs": [],
   "source": [
    "df_vit.Neighbourhood.value_counts().head(5)"
   ]
  },
  {
   "cell_type": "code",
   "execution_count": null,
   "metadata": {},
   "outputs": [],
   "source": [
    "df_vit.Age.value_counts().head(5)"
   ]
  },
  {
   "cell_type": "code",
   "execution_count": null,
   "metadata": {},
   "outputs": [],
   "source": [
    "df_vit.Scholarship.value_counts()"
   ]
  },
  {
   "cell_type": "code",
   "execution_count": null,
   "metadata": {},
   "outputs": [],
   "source": [
    "# Use this cell to set up import statements for all of the packages that you\n",
    "#   plan to use.\n",
    "\n",
    "# Remember to include a 'magic word' so that your visualizations are plotted\n",
    "#   inline with the notebook. See this page for more:\n",
    "#   http://ipython.readthedocs.io/en/stable/interactive/magics.html\n"
   ]
  },
  {
   "cell_type": "markdown",
   "metadata": {},
   "source": [
    "### Research Question 2  (Replace this header name!)"
   ]
  },
  {
   "cell_type": "code",
   "execution_count": null,
   "metadata": {},
   "outputs": [],
   "source": [
    "# Continue to explore the data to address your additional research\n",
    "#   questions. Add more headers as needed if you have more questions to\n",
    "#   investigate.\n"
   ]
  },
  {
   "cell_type": "markdown",
   "metadata": {},
   "source": [
    "<a id='conclusions'></a>\n",
    "## Conclusions\n",
    "\n",
    "> **Tip**: Finally, summarize your findings and the results that have been performed. Make sure that you are clear with regards to the limitations of your exploration. If you haven't done any statistical tests, do not imply any statistical conclusions. And make sure you avoid implying causation from correlation!\n",
    "\n",
    "> **Tip**: Once you are satisfied with your work, you should save a copy of the report in HTML or PDF form via the **File** > **Download as** submenu. Before exporting your report, check over it to make sure that the flow of the report is complete. You should probably remove all of the \"Tip\" quotes like this one so that the presentation is as tidy as possible. Congratulations!\n",
    "\n",
    "***"
   ]
  },
  {
   "cell_type": "markdown",
   "metadata": {},
   "source": [
    "## Appendix A <a id='appendix_a'></a>\n",
    "\n",
    "This appendix aims to go in depth to find new data available on internet. Mostly of this information is public and disclosure in the Vitória Council Website.\n",
    "\n",
    "### Regional Administration Dataset <a id='reg_admin'></a>\n",
    "\n",
    "The city of Vitória is divided into 9 (nine) Regional Administration, according with the Vitória City Council [Website](http://www.vitoria.es.gov.br/prefeitura/gerencias-regionais-veja-os-enderecos), do not expected to read any information in english, so the most important thing to gather in this page are the address of each suburbs administration building and the oficial name of suburbs administration.\n",
    "\n",
    "<br>\n",
    "\n",
    "<center><strong>Table A1 - Regional Administration Names and Address.</strong></center>\n",
    "\n",
    "|Regional Administation|Address|General Information|\n",
    "|:-------------------------:|:--------------------:|:--------------------:|\n",
    "|Central 1 - Centro         |Praça Américo Poli Monjardim, Forte São João|[See more][1]|\n",
    "|Central 2 - Santo Antônio  |Avenida Santo Antônio, 1400, Santo Antônio|[See more][2]|\n",
    "|Central 3 - Jucutuquara    |Rua Santa Rita de Cássia, S/N, De Lourdes|[See more][3]|\n",
    "|Central 4 - Maruípe        |Rua Marechal Floriano, 709, Maruípe|[See more][4]|\n",
    "|Central 5 - Praia do Canto |Avenida Rio Branco, 80, Santa Lúcia|[See more][5]|\n",
    "|Central 6 - Goiabeiras     |Rua Desembargador Cassiano Castelo, 65, Goiabeiras|[See more][6]|\n",
    "|Central 7 - São Pedro      |Avenida Beira Mar, 360, São Pedro|[See more][7]|\n",
    "|Central 8 - Jardim Camburi |Avenida Santos Evangelista, 15, Jardim Camburi|[See more][8]|\n",
    "|Central 9 - Jardim da Penha|Praça Philogomiro Lannes, S/N, Jardim da Penha|[See more][9]|\n",
    "\n",
    "[1]: http://legado.vitoria.es.gov.br/regionais/dados_regiao/regiao_1/regiao1.asp\n",
    "\n",
    "[2]: http://legado.vitoria.es.gov.br/regionais/dados_regiao/regiao_2/regiao2.asp\n",
    "\n",
    "[3]: http://legado.vitoria.es.gov.br/regionais/dados_regiao/regiao_3/regiao3.asp\n",
    "\n",
    "[4]: http://legado.vitoria.es.gov.br/regionais/dados_regiao/regiao_4/regiao4.asp\n",
    "\n",
    "[5]: http://legado.vitoria.es.gov.br/regionais/dados_regiao/regiao_5/regiao5.asp\n",
    "\n",
    "[6]: http://legado.vitoria.es.gov.br/regionais/dados_regiao/regiao_6/regiao6.asp\n",
    "\n",
    "[7]: http://legado.vitoria.es.gov.br/regionais/dados_regiao/regiao_7/regiao7.asp\n",
    "\n",
    "[8]: http://legado.vitoria.es.gov.br/regionais/dados_regiao/regiao_8/regiao8.asp\n",
    "\n",
    "[9]: http://legado.vitoria.es.gov.br/regionais/dados_regiao/regiao_9/regiao9.asp\n",
    "\n",
    "Going depth to find more information in the Vitória Council Website, I have found a map of each Regional administration (Table A1 Column General Information), with general information, such as:\n",
    "\n",
    "* Number of Neighboor;\n",
    "* Area (m²);\n",
    "* Population (in 2010);\n",
    "* Demographic density (inhabitants/km²);\n",
    "* Numbers of home (in 2010);\n",
    "* Average Income (in 2010);\n",
    "* Economic Activities (in 2012).\n",
    "\n",
    "I have recorded these information into one dataset (I do not know how to \"webscrap\" these infos, and probabily this is going to take too much time of my stydies to learn how to do it. I am new in Python). This dataset, co called `vitoria_reg_adm.csv` is available in my Github Repository. The Table A2 shows the description variables.  \n",
    "\n",
    "<center><strong>Table A2 - Data type of the vit_reg_adm.csv file.<strong></center>\n",
    "\n",
    "|Variable|Type||\n",
    "|:-:|:-:|:-:|\n",
    "|id_ra|int|ID of the Regional Administration (Following the<br>sequence stablished in Table A1\n",
    "|reg_adm|str|Regional Administration Name\n",
    "|nbh_qty|int|Quantity of Neighborhood in each Regional Administration\n",
    "|area_m2|float|Regional Administration Area in m²\n",
    "|pop_2010|int|Population in 2010\n",
    "|den_km2|int|Demographic Density in km²\n",
    "|home_2010|int|number of homes\n",
    "|avg_inc_2010|float|Monthly Average Income (in BRL)\n",
    "|eco_act_2012|int|Commercial Stores Quantity\n",
    "\n",
    "Keep in mind, in Brazil the \".\" is a separator of thousands, whereas \",\" a separator of decimals."
   ]
  },
  {
   "cell_type": "code",
   "execution_count": null,
   "metadata": {},
   "outputs": [],
   "source": [
    "# Loading the Vitoria Regional Administration data.\n",
    "vit_reg_adm = pd.read_csv('02-Datasets/vit_reg_adm.csv', sep=\";\");\n",
    "\n",
    "# Print\n",
    "vit_reg_adm.head()"
   ]
  },
  {
   "cell_type": "code",
   "execution_count": null,
   "metadata": {},
   "outputs": [],
   "source": [
    "# Number of Neighborhood and Variables\n",
    "vit_reg_adm.shape"
   ]
  },
  {
   "cell_type": "markdown",
   "metadata": {},
   "source": [
    "### Neighborhood Dataset <a id='neighborhood'></a>\n",
    "\n",
    "Vitória City has 80 (eighty) neighborhoods, as you can check in the [Vitória Council Website][1], in this link you can access all neighborhood boundaries, even more in each of this `pdf`'s you can see the roads and streets and a short resume of each neighborhood. Figure A1, shows an example of information in each `pdf`.\n",
    "\n",
    "<img src=\"01-img/figura_a1.png\" width='400'/>\n",
    "<center><i>Figura A1 - Vila Rubim Boundaries and Some Descriptive Analysis on bottom left.</i></center>\n",
    "\n",
    "Based on the Table A1 Column General Informations links, and list of all [neighborhoods][1], I will create an auxiliary dataset to record additional data, so-called `vit_aux.csv`.\n",
    "\n",
    "In this auxililary dataset I have followed the neighborhood classification of Vitória Council Website (See Table A1, each rows has own on URL, in it you can see the picture of each Regional Administration), in some cases I have found neighborhood in differents Regional Administration. The Table A3 shows the Description Types of each variable/features.\n",
    "\n",
    "<center><strong>Table A3 - Description types of vit_aux.csv.</strong></center>\n",
    "\n",
    "|Variable|Type|Description|\n",
    "|:-:|:-:|:-:|\n",
    "|id_ra|int|ID of the Regional Administration (Following the<br>sequence stablished in Table A1)\n",
    "|reg_adm|str|Regional Administration Name||\n",
    "|nbh|str|Neighborhood Name\n",
    "|pop_2000|int|Population in Census 2000\n",
    "|pop_2010|int|Population in Census 2010\n",
    "|male|int|Quantity of male in given neighborhood\n",
    "|female|int|Quantity of female in given neighborhood\n",
    "|avg_inc_mon|float|Average Income per month (in BRL)\n",
    "\n",
    "Keep in mind, in Brazil the \".\" is a separator of thousands, whereas \",\" a separator of decimals.\n",
    "\n",
    "In this [link][2] you can see with details a big map of Vitória and its Regional Administration Areas.\n",
    "\n",
    "\n",
    "[1]: http://legado.vitoria.es.gov.br/regionais/geral/bairros.asp\n",
    "[2]: http://legado.vitoria.es.gov.br/regionais/bairros/Mapa_bairros/LIMITE_BAIRROS.pdf"
   ]
  },
  {
   "cell_type": "code",
   "execution_count": null,
   "metadata": {},
   "outputs": [],
   "source": [
    "# Loading the Vitoria Auxiliary data.\n",
    "vit_aux = pd.read_csv('02-Datasets/vit_aux.csv', sep=\";\");\n",
    "\n",
    "# Print\n",
    "vit_aux.head()"
   ]
  },
  {
   "cell_type": "code",
   "execution_count": null,
   "metadata": {},
   "outputs": [],
   "source": [
    "# Number of Neighborhood and Variables\n",
    "vit_aux.shape"
   ]
  },
  {
   "cell_type": "markdown",
   "metadata": {},
   "source": [
    "### Age Dataset <a id='age'></a>\n",
    "\n",
    "I have found a table in the Vitória Council Website [(click here to visit the original)][a] with 20 categories (cut by 5 year each one) and by gender.  \n",
    "<br>\n",
    "\n",
    "<center><strong>Table A4 - First rows of the vit_age.csv</strong></center>\n",
    "\n",
    "|age|male|female|\n",
    "|:-:|:-:|:-:|\n",
    "|0 to 04 years|9932|9666\n",
    "|05 to 09 years|10165|9727\n",
    "|10 to 14 years|11944|11686\n",
    "|15 to 19 years|12450|12932\n",
    "|20 to 24 years|15297|15970\n",
    "|25 to 29 years|15511|16621\n",
    "\n",
    "This dataset is important to understand the population distribution by age, and how it affects the appointment.\n",
    "\n",
    "[a]: http://legado.vitoria.es.gov.br/regionais/dados_socioeconomicos/populacao/2000_2010/tab2.asp"
   ]
  },
  {
   "cell_type": "code",
   "execution_count": 94,
   "metadata": {},
   "outputs": [
    {
     "data": {
      "text/html": [
       "<div>\n",
       "<style scoped>\n",
       "    .dataframe tbody tr th:only-of-type {\n",
       "        vertical-align: middle;\n",
       "    }\n",
       "\n",
       "    .dataframe tbody tr th {\n",
       "        vertical-align: top;\n",
       "    }\n",
       "\n",
       "    .dataframe thead th {\n",
       "        text-align: right;\n",
       "    }\n",
       "</style>\n",
       "<table border=\"1\" class=\"dataframe\">\n",
       "  <thead>\n",
       "    <tr style=\"text-align: right;\">\n",
       "      <th></th>\n",
       "      <th>age</th>\n",
       "      <th>male</th>\n",
       "      <th>female</th>\n",
       "    </tr>\n",
       "  </thead>\n",
       "  <tbody>\n",
       "    <tr>\n",
       "      <th>0</th>\n",
       "      <td>0 to 04 years</td>\n",
       "      <td>9932</td>\n",
       "      <td>9666</td>\n",
       "    </tr>\n",
       "    <tr>\n",
       "      <th>1</th>\n",
       "      <td>05 to 09 years</td>\n",
       "      <td>10165</td>\n",
       "      <td>9727</td>\n",
       "    </tr>\n",
       "    <tr>\n",
       "      <th>2</th>\n",
       "      <td>10 to 14 years</td>\n",
       "      <td>11944</td>\n",
       "      <td>11686</td>\n",
       "    </tr>\n",
       "    <tr>\n",
       "      <th>3</th>\n",
       "      <td>15 to 19 years</td>\n",
       "      <td>12450</td>\n",
       "      <td>12932</td>\n",
       "    </tr>\n",
       "    <tr>\n",
       "      <th>4</th>\n",
       "      <td>20 to 24 years</td>\n",
       "      <td>15297</td>\n",
       "      <td>15970</td>\n",
       "    </tr>\n",
       "  </tbody>\n",
       "</table>\n",
       "</div>"
      ],
      "text/plain": [
       "              age   male  female\n",
       "0   0 to 04 years   9932    9666\n",
       "1  05 to 09 years  10165    9727\n",
       "2  10 to 14 years  11944   11686\n",
       "3  15 to 19 years  12450   12932\n",
       "4  20 to 24 years  15297   15970"
      ]
     },
     "execution_count": 94,
     "metadata": {},
     "output_type": "execute_result"
    }
   ],
   "source": [
    "# Loading the Vitoria Age data.\n",
    "vit_age = pd.read_csv('02-Datasets/vit_age.csv', sep=\";\");\n",
    "\n",
    "# Print\n",
    "vit_age.head()"
   ]
  },
  {
   "cell_type": "markdown",
   "metadata": {},
   "source": [
    "### UBS Dataset <a id='ubs'></a>\n",
    "\n",
    "In Vitória there are 38 UBS.\n",
    "\n",
    "<center><strong>Table A5 - Number of USB in each Health Territory Area.</strong></center>\n",
    "\n",
    "|Health Territory Area|Number of Neighborhood Covered|UBS Family|US PACS|Reference Center|Specialized Center|Polyclinic|Total|\n",
    "|:-:|:-:|:-:|:-:|:-:|:-:|:-:|:-:|\n",
    "|Centro        |11|3|2|2|1|0|8|\n",
    "|Forte São João|20|2|2|4|0|0|8|\n",
    "|Santo Antônio |9 |3|0|0|0|0|3|\n",
    "|Penha         |14|1|4|0|0|0|5|\n",
    "|Maruípe       |18|6|0|0|0|0|6|\n",
    "|São Pedro     |10|4|0|2|1|1|8|\n",
    "\n",
    "\n"
   ]
  },
  {
   "cell_type": "markdown",
   "metadata": {},
   "source": [
    "\n",
    "### More infos\n",
    "\n",
    "The information is broad and disclouse on internet, but it's time consuming. If anyone was interest in more  information I have not visited in deep these two websites:\n",
    "\n",
    "* http://geoweb.vitoria.es.gov.br/#/carousel-tour\n",
    "* http://legado.vitoria.es.gov.br/regionais/geral/publicacoes/Vitoria_bairro_bairro/Vitória_bairro_%20a_bairro.pdf\n",
    "\n",
    "\n",
    "After some simple analysis I decided to gather more information on the Vitória City Statistics.\n",
    "\n",
    "http://legado.vitoria.es.gov.br/regionais/dados_socioeconomicos/populacao/popmunicipio_bairro.asp\n",
    "\n",
    "http://legado.vitoria.es.gov.br/regionais/dados_socioeconomicos/populacao/2000_2010/tab6.asp\n",
    "\n",
    "http://legado.vitoria.es.gov.br/regionais/Censo_2010/Tab2_sinopse_pop.asp\n",
    "\n",
    "http://legado.vitoria.es.gov.br/regionais/dados_socioeconomicos/populacao/2000_2010/tab5.asp\n",
    "\n",
    "https://cidades.ibge.gov.br/brasil/es/vitoria/panorama\n",
    "\n",
    "https://en.wikipedia.org/wiki/Vitória,_Espírito_Santo\n",
    "\n",
    "https://www.datacamp.com/community/tutorials/web-scraping-using-python\n",
    "\n",
    "https://exploratory.io/map"
   ]
  },
  {
   "cell_type": "markdown",
   "metadata": {
    "collapsed": true
   },
   "source": [
    "\n",
    "## References <a id='references'></a>\n",
    "\n",
    "This is the source of my report.\n",
    "\n",
    "* Kaggle\n",
    "* IBGE\n",
    "* Vitória Council Website"
   ]
  }
 ],
 "metadata": {
  "kernelspec": {
   "display_name": "Python 3",
   "language": "python",
   "name": "python3"
  },
  "language_info": {
   "codemirror_mode": {
    "name": "ipython",
    "version": 3
   },
   "file_extension": ".py",
   "mimetype": "text/x-python",
   "name": "python",
   "nbconvert_exporter": "python",
   "pygments_lexer": "ipython3",
   "version": "3.7.0"
  }
 },
 "nbformat": 4,
 "nbformat_minor": 2
}
