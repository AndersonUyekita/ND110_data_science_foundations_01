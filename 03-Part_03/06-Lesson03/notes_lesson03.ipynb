{
 "cells": [
  {
   "cell_type": "markdown",
   "metadata": {},
   "source": [
    "# Python for Data Analysis `Lesson03`\n",
    "\n",
    "#### Tags\n",
    "* Título: _Case Study 02_\n",
    "* Autor: AH Uyekita\n",
    "* Data: 10/12/2018\n",
    "* Cod: ND110\n",
    "\n",
    "## Pratice\n",
    "\n",
    "This is a pratice to learn doing a other case study.\n",
    "\n",
    "## Python Requeriments\n",
    "\n",
    "Packages used to perform this study."
   ]
  },
  {
   "cell_type": "code",
   "execution_count": null,
   "metadata": {},
   "outputs": [],
   "source": []
  }
 ],
 "metadata": {
  "kernelspec": {
   "display_name": "Python 3",
   "language": "python",
   "name": "python3"
  },
  "language_info": {
   "codemirror_mode": {
    "name": "ipython",
    "version": 3
   },
   "file_extension": ".py",
   "mimetype": "text/x-python",
   "name": "python",
   "nbconvert_exporter": "python",
   "pygments_lexer": "ipython3",
   "version": "3.7.0"
  }
 },
 "nbformat": 4,
 "nbformat_minor": 2
}
