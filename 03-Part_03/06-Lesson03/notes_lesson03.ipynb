{
 "cells": [
  {
   "cell_type": "markdown",
   "metadata": {},
   "source": [
    "# Python for Data Analysis `Lesson03`\n",
    "\n",
    "#### Tags\n",
    "* Título: _Case Study 02_\n",
    "* Autor: AH Uyekita\n",
    "* Data: 10/12/2018\n",
    "* Cod: ND110\n",
    "\n",
    "## Pratice\n",
    "\n",
    "In this Lesson I hope I can have a bit more pratice working with the libraries, such as:\n",
    "\n",
    "* Numpy\n",
    "* Pandas\n",
    "* Matplotlib\n",
    "\n",
    "The last Lesson was very good to introduce them.\n",
    "\n",
    "## Archives\n",
    "\n",
    "All archives area downloaded from the EPA website.\n",
    "\n",
    "* https://www.fueleconomy.gov/feg/download.shtml\n",
    "* Table: Downloadable Fuel Economy Data\n",
    "    * Column: EPA Green Vehicle Guide\n",
    "    * File: TXT\n",
    "\n",
    "### Alocating\n",
    "\n",
    "These two dataset are located in the 01-Dataset folder.\n",
    "\n",
    "* ~/01-Dataset/all_alpha_08.txt\n",
    "* ~/01-Dataset/all_alpha_18.txt\n",
    "\n",
    "## Reading the Guide Datafile\n",
    "\n",
    "This file could be accessed/visited in:\n",
    "\n",
    "* https://www.fueleconomy.gov/feg/EPAGreenGuide/GreenVehicleGuideDocumentation.pdf\n",
    "\n",
    "Is also stored in ~/01-Dataset folder.\n",
    "\n",
    "### Variables Description\n",
    "\n",
    "In this file I could read a general information about each variable.\n",
    "\n",
    "## Python Requeriments\n",
    "\n",
    "Packages used to perform this study."
   ]
  },
  {
   "cell_type": "code",
   "execution_count": 1,
   "metadata": {},
   "outputs": [],
   "source": [
    "import pandas as pd\n",
    "import numpy as np\n",
    "import matplotlib as plt\n",
    "import seaborn as sns\n",
    "% matplotlib inline"
   ]
  },
  {
   "cell_type": "markdown",
   "metadata": {},
   "source": [
    "## Loading Data\n",
    "\n",
    "Creating two dataframe to store these two archives."
   ]
  },
  {
   "cell_type": "code",
   "execution_count": 2,
   "metadata": {},
   "outputs": [],
   "source": [
    "# Loading the EPA Fuel Economy Data from 2008.\n",
    "car_2008 = pd.read_csv('01-Dataset/all_alpha_08.txt', sep=\"\\t\") # Atention to the sep, in this case is a tabulation.\n",
    "\n",
    "# Loading the EPA Fuel Economy Data from 2018.\n",
    "car_2018 = pd.read_csv('01-Dataset/all_alpha_18.txt', sep=\"\\t\") # Atention to the sep, in this case is a tabulation."
   ]
  },
  {
   "cell_type": "markdown",
   "metadata": {},
   "source": [
    "## Assessing Data\n",
    "\n",
    "I will make some subsettings and minor analysis, just to investigate the structure of the dataset.\n",
    "\n",
    "### Data Structure\n",
    "\n",
    "#### First and last rows"
   ]
  },
  {
   "cell_type": "code",
   "execution_count": 3,
   "metadata": {},
   "outputs": [
    {
     "data": {
      "text/html": [
       "<div>\n",
       "<style scoped>\n",
       "    .dataframe tbody tr th:only-of-type {\n",
       "        vertical-align: middle;\n",
       "    }\n",
       "\n",
       "    .dataframe tbody tr th {\n",
       "        vertical-align: top;\n",
       "    }\n",
       "\n",
       "    .dataframe thead th {\n",
       "        text-align: right;\n",
       "    }\n",
       "</style>\n",
       "<table border=\"1\" class=\"dataframe\">\n",
       "  <thead>\n",
       "    <tr style=\"text-align: right;\">\n",
       "      <th></th>\n",
       "      <th>Model</th>\n",
       "      <th>Displ</th>\n",
       "      <th>Cyl</th>\n",
       "      <th>Trans</th>\n",
       "      <th>Drive</th>\n",
       "      <th>Fuel</th>\n",
       "      <th>Sales Area</th>\n",
       "      <th>Stnd</th>\n",
       "      <th>Underhood ID</th>\n",
       "      <th>Veh Class</th>\n",
       "      <th>Air Pollution Score</th>\n",
       "      <th>FE Calc Appr</th>\n",
       "      <th>City MPG</th>\n",
       "      <th>Hwy MPG</th>\n",
       "      <th>Cmb MPG</th>\n",
       "      <th>Unadj Cmb MPG</th>\n",
       "      <th>Greenhouse Gas Score</th>\n",
       "      <th>SmartWay</th>\n",
       "    </tr>\n",
       "  </thead>\n",
       "  <tbody>\n",
       "    <tr>\n",
       "      <th>0</th>\n",
       "      <td>ACURA MDX</td>\n",
       "      <td>3.7</td>\n",
       "      <td>(6 cyl)</td>\n",
       "      <td>Auto-S5</td>\n",
       "      <td>4WD</td>\n",
       "      <td>Gasoline</td>\n",
       "      <td>CA</td>\n",
       "      <td>U2</td>\n",
       "      <td>8HNXT03.7PKR</td>\n",
       "      <td>SUV</td>\n",
       "      <td>7</td>\n",
       "      <td>Drv</td>\n",
       "      <td>15</td>\n",
       "      <td>20</td>\n",
       "      <td>17</td>\n",
       "      <td>22.0527</td>\n",
       "      <td>4</td>\n",
       "      <td>no</td>\n",
       "    </tr>\n",
       "    <tr>\n",
       "      <th>1</th>\n",
       "      <td>ACURA MDX</td>\n",
       "      <td>3.7</td>\n",
       "      <td>(6 cyl)</td>\n",
       "      <td>Auto-S5</td>\n",
       "      <td>4WD</td>\n",
       "      <td>Gasoline</td>\n",
       "      <td>FA</td>\n",
       "      <td>B5</td>\n",
       "      <td>8HNXT03.7PKR</td>\n",
       "      <td>SUV</td>\n",
       "      <td>6</td>\n",
       "      <td>Drv</td>\n",
       "      <td>15</td>\n",
       "      <td>20</td>\n",
       "      <td>17</td>\n",
       "      <td>22.0527</td>\n",
       "      <td>4</td>\n",
       "      <td>no</td>\n",
       "    </tr>\n",
       "    <tr>\n",
       "      <th>2</th>\n",
       "      <td>ACURA RDX</td>\n",
       "      <td>2.3</td>\n",
       "      <td>(4 cyl)</td>\n",
       "      <td>Auto-S5</td>\n",
       "      <td>4WD</td>\n",
       "      <td>Gasoline</td>\n",
       "      <td>CA</td>\n",
       "      <td>U2</td>\n",
       "      <td>8HNXT02.3DKR</td>\n",
       "      <td>SUV</td>\n",
       "      <td>7</td>\n",
       "      <td>Drv</td>\n",
       "      <td>17</td>\n",
       "      <td>22</td>\n",
       "      <td>19</td>\n",
       "      <td>24.1745</td>\n",
       "      <td>5</td>\n",
       "      <td>no</td>\n",
       "    </tr>\n",
       "    <tr>\n",
       "      <th>3</th>\n",
       "      <td>ACURA RDX</td>\n",
       "      <td>2.3</td>\n",
       "      <td>(4 cyl)</td>\n",
       "      <td>Auto-S5</td>\n",
       "      <td>4WD</td>\n",
       "      <td>Gasoline</td>\n",
       "      <td>FA</td>\n",
       "      <td>B5</td>\n",
       "      <td>8HNXT02.3DKR</td>\n",
       "      <td>SUV</td>\n",
       "      <td>6</td>\n",
       "      <td>Drv</td>\n",
       "      <td>17</td>\n",
       "      <td>22</td>\n",
       "      <td>19</td>\n",
       "      <td>24.1745</td>\n",
       "      <td>5</td>\n",
       "      <td>no</td>\n",
       "    </tr>\n",
       "    <tr>\n",
       "      <th>4</th>\n",
       "      <td>ACURA RL</td>\n",
       "      <td>3.5</td>\n",
       "      <td>(6 cyl)</td>\n",
       "      <td>Auto-S5</td>\n",
       "      <td>4WD</td>\n",
       "      <td>Gasoline</td>\n",
       "      <td>CA</td>\n",
       "      <td>U2</td>\n",
       "      <td>8HNXV03.5HKR</td>\n",
       "      <td>midsize car</td>\n",
       "      <td>7</td>\n",
       "      <td>Drv</td>\n",
       "      <td>16</td>\n",
       "      <td>24</td>\n",
       "      <td>19</td>\n",
       "      <td>24.5629</td>\n",
       "      <td>5</td>\n",
       "      <td>no</td>\n",
       "    </tr>\n",
       "  </tbody>\n",
       "</table>\n",
       "</div>"
      ],
      "text/plain": [
       "       Model  Displ      Cyl    Trans Drive      Fuel Sales Area Stnd  \\\n",
       "0  ACURA MDX    3.7  (6 cyl)  Auto-S5   4WD  Gasoline         CA   U2   \n",
       "1  ACURA MDX    3.7  (6 cyl)  Auto-S5   4WD  Gasoline         FA   B5   \n",
       "2  ACURA RDX    2.3  (4 cyl)  Auto-S5   4WD  Gasoline         CA   U2   \n",
       "3  ACURA RDX    2.3  (4 cyl)  Auto-S5   4WD  Gasoline         FA   B5   \n",
       "4   ACURA RL    3.5  (6 cyl)  Auto-S5   4WD  Gasoline         CA   U2   \n",
       "\n",
       "   Underhood ID    Veh Class Air Pollution Score FE Calc Appr City MPG  \\\n",
       "0  8HNXT03.7PKR          SUV                   7          Drv       15   \n",
       "1  8HNXT03.7PKR          SUV                   6          Drv       15   \n",
       "2  8HNXT02.3DKR          SUV                   7          Drv       17   \n",
       "3  8HNXT02.3DKR          SUV                   6          Drv       17   \n",
       "4  8HNXV03.5HKR  midsize car                   7          Drv       16   \n",
       "\n",
       "  Hwy MPG Cmb MPG  Unadj Cmb MPG Greenhouse Gas Score SmartWay  \n",
       "0      20      17        22.0527                    4       no  \n",
       "1      20      17        22.0527                    4       no  \n",
       "2      22      19        24.1745                    5       no  \n",
       "3      22      19        24.1745                    5       no  \n",
       "4      24      19        24.5629                    5       no  "
      ]
     },
     "execution_count": 3,
     "metadata": {},
     "output_type": "execute_result"
    }
   ],
   "source": [
    "car_2008.head(5)"
   ]
  },
  {
   "cell_type": "code",
   "execution_count": 4,
   "metadata": {},
   "outputs": [
    {
     "data": {
      "text/html": [
       "<div>\n",
       "<style scoped>\n",
       "    .dataframe tbody tr th:only-of-type {\n",
       "        vertical-align: middle;\n",
       "    }\n",
       "\n",
       "    .dataframe tbody tr th {\n",
       "        vertical-align: top;\n",
       "    }\n",
       "\n",
       "    .dataframe thead th {\n",
       "        text-align: right;\n",
       "    }\n",
       "</style>\n",
       "<table border=\"1\" class=\"dataframe\">\n",
       "  <thead>\n",
       "    <tr style=\"text-align: right;\">\n",
       "      <th></th>\n",
       "      <th>Model</th>\n",
       "      <th>Displ</th>\n",
       "      <th>Cyl</th>\n",
       "      <th>Trans</th>\n",
       "      <th>Drive</th>\n",
       "      <th>Fuel</th>\n",
       "      <th>Cert Region</th>\n",
       "      <th>Stnd</th>\n",
       "      <th>Stnd Description</th>\n",
       "      <th>Underhood ID</th>\n",
       "      <th>Veh Class</th>\n",
       "      <th>Air Pollution Score</th>\n",
       "      <th>City MPG</th>\n",
       "      <th>Hwy MPG</th>\n",
       "      <th>Cmb MPG</th>\n",
       "      <th>Greenhouse Gas Score</th>\n",
       "      <th>SmartWay</th>\n",
       "      <th>Comb CO2</th>\n",
       "    </tr>\n",
       "  </thead>\n",
       "  <tbody>\n",
       "    <tr>\n",
       "      <th>0</th>\n",
       "      <td>ACURA ILX</td>\n",
       "      <td>2.4</td>\n",
       "      <td>4.0</td>\n",
       "      <td>AMS-8</td>\n",
       "      <td>2WD</td>\n",
       "      <td>Gasoline</td>\n",
       "      <td>CA</td>\n",
       "      <td>L3ULEV125</td>\n",
       "      <td>California LEV-III ULEV125</td>\n",
       "      <td>JHNXV02.4NH3</td>\n",
       "      <td>small car</td>\n",
       "      <td>3</td>\n",
       "      <td>25</td>\n",
       "      <td>35</td>\n",
       "      <td>29</td>\n",
       "      <td>6</td>\n",
       "      <td>No</td>\n",
       "      <td>309</td>\n",
       "    </tr>\n",
       "    <tr>\n",
       "      <th>1</th>\n",
       "      <td>ACURA ILX</td>\n",
       "      <td>2.4</td>\n",
       "      <td>4.0</td>\n",
       "      <td>AMS-8</td>\n",
       "      <td>2WD</td>\n",
       "      <td>Gasoline</td>\n",
       "      <td>FA</td>\n",
       "      <td>T3B125</td>\n",
       "      <td>Federal Tier 3 Bin 125</td>\n",
       "      <td>JHNXV02.4NH3</td>\n",
       "      <td>small car</td>\n",
       "      <td>3</td>\n",
       "      <td>25</td>\n",
       "      <td>35</td>\n",
       "      <td>29</td>\n",
       "      <td>6</td>\n",
       "      <td>No</td>\n",
       "      <td>309</td>\n",
       "    </tr>\n",
       "    <tr>\n",
       "      <th>2</th>\n",
       "      <td>ACURA MDX</td>\n",
       "      <td>3.0</td>\n",
       "      <td>6.0</td>\n",
       "      <td>AMS-7</td>\n",
       "      <td>4WD</td>\n",
       "      <td>Gasoline</td>\n",
       "      <td>CA</td>\n",
       "      <td>L3ULEV125</td>\n",
       "      <td>California LEV-III ULEV125</td>\n",
       "      <td>JHNXV03.08H3</td>\n",
       "      <td>small SUV</td>\n",
       "      <td>3</td>\n",
       "      <td>26</td>\n",
       "      <td>27</td>\n",
       "      <td>27</td>\n",
       "      <td>6</td>\n",
       "      <td>No</td>\n",
       "      <td>330</td>\n",
       "    </tr>\n",
       "    <tr>\n",
       "      <th>3</th>\n",
       "      <td>ACURA MDX</td>\n",
       "      <td>3.0</td>\n",
       "      <td>6.0</td>\n",
       "      <td>AMS-7</td>\n",
       "      <td>4WD</td>\n",
       "      <td>Gasoline</td>\n",
       "      <td>FA</td>\n",
       "      <td>T3B125</td>\n",
       "      <td>Federal Tier 3 Bin 125</td>\n",
       "      <td>JHNXV03.08H3</td>\n",
       "      <td>small SUV</td>\n",
       "      <td>3</td>\n",
       "      <td>26</td>\n",
       "      <td>27</td>\n",
       "      <td>27</td>\n",
       "      <td>6</td>\n",
       "      <td>No</td>\n",
       "      <td>330</td>\n",
       "    </tr>\n",
       "    <tr>\n",
       "      <th>4</th>\n",
       "      <td>ACURA MDX</td>\n",
       "      <td>3.5</td>\n",
       "      <td>6.0</td>\n",
       "      <td>SemiAuto-9</td>\n",
       "      <td>2WD</td>\n",
       "      <td>Gasoline</td>\n",
       "      <td>CA</td>\n",
       "      <td>L3ULEV125</td>\n",
       "      <td>California LEV-III ULEV125</td>\n",
       "      <td>JHNXV03.5RH3</td>\n",
       "      <td>small SUV</td>\n",
       "      <td>3</td>\n",
       "      <td>19</td>\n",
       "      <td>27</td>\n",
       "      <td>22</td>\n",
       "      <td>4</td>\n",
       "      <td>No</td>\n",
       "      <td>404</td>\n",
       "    </tr>\n",
       "  </tbody>\n",
       "</table>\n",
       "</div>"
      ],
      "text/plain": [
       "       Model  Displ  Cyl       Trans Drive      Fuel Cert Region       Stnd  \\\n",
       "0  ACURA ILX    2.4  4.0       AMS-8   2WD  Gasoline          CA  L3ULEV125   \n",
       "1  ACURA ILX    2.4  4.0       AMS-8   2WD  Gasoline          FA     T3B125   \n",
       "2  ACURA MDX    3.0  6.0       AMS-7   4WD  Gasoline          CA  L3ULEV125   \n",
       "3  ACURA MDX    3.0  6.0       AMS-7   4WD  Gasoline          FA     T3B125   \n",
       "4  ACURA MDX    3.5  6.0  SemiAuto-9   2WD  Gasoline          CA  L3ULEV125   \n",
       "\n",
       "             Stnd Description  Underhood ID  Veh Class  Air Pollution Score  \\\n",
       "0  California LEV-III ULEV125  JHNXV02.4NH3  small car                    3   \n",
       "1      Federal Tier 3 Bin 125  JHNXV02.4NH3  small car                    3   \n",
       "2  California LEV-III ULEV125  JHNXV03.08H3  small SUV                    3   \n",
       "3      Federal Tier 3 Bin 125  JHNXV03.08H3  small SUV                    3   \n",
       "4  California LEV-III ULEV125  JHNXV03.5RH3  small SUV                    3   \n",
       "\n",
       "  City MPG Hwy MPG Cmb MPG  Greenhouse Gas Score SmartWay Comb CO2  \n",
       "0       25      35      29                     6       No      309  \n",
       "1       25      35      29                     6       No      309  \n",
       "2       26      27      27                     6       No      330  \n",
       "3       26      27      27                     6       No      330  \n",
       "4       19      27      22                     4       No      404  "
      ]
     },
     "execution_count": 4,
     "metadata": {},
     "output_type": "execute_result"
    }
   ],
   "source": [
    "car_2018.head(5)"
   ]
  },
  {
   "cell_type": "code",
   "execution_count": 5,
   "metadata": {},
   "outputs": [
    {
     "data": {
      "text/html": [
       "<div>\n",
       "<style scoped>\n",
       "    .dataframe tbody tr th:only-of-type {\n",
       "        vertical-align: middle;\n",
       "    }\n",
       "\n",
       "    .dataframe tbody tr th {\n",
       "        vertical-align: top;\n",
       "    }\n",
       "\n",
       "    .dataframe thead th {\n",
       "        text-align: right;\n",
       "    }\n",
       "</style>\n",
       "<table border=\"1\" class=\"dataframe\">\n",
       "  <thead>\n",
       "    <tr style=\"text-align: right;\">\n",
       "      <th></th>\n",
       "      <th>Model</th>\n",
       "      <th>Displ</th>\n",
       "      <th>Cyl</th>\n",
       "      <th>Trans</th>\n",
       "      <th>Drive</th>\n",
       "      <th>Fuel</th>\n",
       "      <th>Sales Area</th>\n",
       "      <th>Stnd</th>\n",
       "      <th>Underhood ID</th>\n",
       "      <th>Veh Class</th>\n",
       "      <th>Air Pollution Score</th>\n",
       "      <th>FE Calc Appr</th>\n",
       "      <th>City MPG</th>\n",
       "      <th>Hwy MPG</th>\n",
       "      <th>Cmb MPG</th>\n",
       "      <th>Unadj Cmb MPG</th>\n",
       "      <th>Greenhouse Gas Score</th>\n",
       "      <th>SmartWay</th>\n",
       "    </tr>\n",
       "  </thead>\n",
       "  <tbody>\n",
       "    <tr>\n",
       "      <th>2399</th>\n",
       "      <td>VOLVO XC 90</td>\n",
       "      <td>3.2</td>\n",
       "      <td>(6 cyl)</td>\n",
       "      <td>Auto-S6</td>\n",
       "      <td>4WD</td>\n",
       "      <td>Gasoline</td>\n",
       "      <td>CA</td>\n",
       "      <td>U2</td>\n",
       "      <td>8VVXB03.2U2N</td>\n",
       "      <td>SUV</td>\n",
       "      <td>7</td>\n",
       "      <td>Drv</td>\n",
       "      <td>14</td>\n",
       "      <td>20</td>\n",
       "      <td>16</td>\n",
       "      <td>20.7134</td>\n",
       "      <td>4</td>\n",
       "      <td>no</td>\n",
       "    </tr>\n",
       "    <tr>\n",
       "      <th>2400</th>\n",
       "      <td>VOLVO XC 90</td>\n",
       "      <td>4.4</td>\n",
       "      <td>(8 cyl)</td>\n",
       "      <td>Auto-S6</td>\n",
       "      <td>4WD</td>\n",
       "      <td>Gasoline</td>\n",
       "      <td>CA</td>\n",
       "      <td>U2</td>\n",
       "      <td>8VVXB04.4U2N</td>\n",
       "      <td>SUV</td>\n",
       "      <td>7</td>\n",
       "      <td>Drv</td>\n",
       "      <td>13</td>\n",
       "      <td>19</td>\n",
       "      <td>15</td>\n",
       "      <td>19.4789</td>\n",
       "      <td>3</td>\n",
       "      <td>no</td>\n",
       "    </tr>\n",
       "    <tr>\n",
       "      <th>2401</th>\n",
       "      <td>VOLVO XC 90</td>\n",
       "      <td>3.2</td>\n",
       "      <td>(6 cyl)</td>\n",
       "      <td>Auto-S6</td>\n",
       "      <td>2WD</td>\n",
       "      <td>Gasoline</td>\n",
       "      <td>FA</td>\n",
       "      <td>B5</td>\n",
       "      <td>8VVXB03.2U2N</td>\n",
       "      <td>SUV</td>\n",
       "      <td>6</td>\n",
       "      <td>Drv</td>\n",
       "      <td>14</td>\n",
       "      <td>20</td>\n",
       "      <td>16</td>\n",
       "      <td>20.9644</td>\n",
       "      <td>4</td>\n",
       "      <td>no</td>\n",
       "    </tr>\n",
       "    <tr>\n",
       "      <th>2402</th>\n",
       "      <td>VOLVO XC 90</td>\n",
       "      <td>3.2</td>\n",
       "      <td>(6 cyl)</td>\n",
       "      <td>Auto-S6</td>\n",
       "      <td>4WD</td>\n",
       "      <td>Gasoline</td>\n",
       "      <td>FA</td>\n",
       "      <td>B5</td>\n",
       "      <td>8VVXB03.2U2N</td>\n",
       "      <td>SUV</td>\n",
       "      <td>6</td>\n",
       "      <td>Drv</td>\n",
       "      <td>14</td>\n",
       "      <td>20</td>\n",
       "      <td>16</td>\n",
       "      <td>20.7134</td>\n",
       "      <td>4</td>\n",
       "      <td>no</td>\n",
       "    </tr>\n",
       "    <tr>\n",
       "      <th>2403</th>\n",
       "      <td>VOLVO XC 90</td>\n",
       "      <td>4.4</td>\n",
       "      <td>(8 cyl)</td>\n",
       "      <td>Auto-S6</td>\n",
       "      <td>4WD</td>\n",
       "      <td>Gasoline</td>\n",
       "      <td>FA</td>\n",
       "      <td>B5</td>\n",
       "      <td>8VVXB04.4U2N</td>\n",
       "      <td>SUV</td>\n",
       "      <td>6</td>\n",
       "      <td>Drv</td>\n",
       "      <td>13</td>\n",
       "      <td>19</td>\n",
       "      <td>15</td>\n",
       "      <td>19.4789</td>\n",
       "      <td>3</td>\n",
       "      <td>no</td>\n",
       "    </tr>\n",
       "  </tbody>\n",
       "</table>\n",
       "</div>"
      ],
      "text/plain": [
       "            Model  Displ      Cyl    Trans Drive      Fuel Sales Area Stnd  \\\n",
       "2399  VOLVO XC 90    3.2  (6 cyl)  Auto-S6   4WD  Gasoline         CA   U2   \n",
       "2400  VOLVO XC 90    4.4  (8 cyl)  Auto-S6   4WD  Gasoline         CA   U2   \n",
       "2401  VOLVO XC 90    3.2  (6 cyl)  Auto-S6   2WD  Gasoline         FA   B5   \n",
       "2402  VOLVO XC 90    3.2  (6 cyl)  Auto-S6   4WD  Gasoline         FA   B5   \n",
       "2403  VOLVO XC 90    4.4  (8 cyl)  Auto-S6   4WD  Gasoline         FA   B5   \n",
       "\n",
       "      Underhood ID Veh Class Air Pollution Score FE Calc Appr City MPG  \\\n",
       "2399  8VVXB03.2U2N       SUV                   7          Drv       14   \n",
       "2400  8VVXB04.4U2N       SUV                   7          Drv       13   \n",
       "2401  8VVXB03.2U2N       SUV                   6          Drv       14   \n",
       "2402  8VVXB03.2U2N       SUV                   6          Drv       14   \n",
       "2403  8VVXB04.4U2N       SUV                   6          Drv       13   \n",
       "\n",
       "     Hwy MPG Cmb MPG  Unadj Cmb MPG Greenhouse Gas Score SmartWay  \n",
       "2399      20      16        20.7134                    4       no  \n",
       "2400      19      15        19.4789                    3       no  \n",
       "2401      20      16        20.9644                    4       no  \n",
       "2402      20      16        20.7134                    4       no  \n",
       "2403      19      15        19.4789                    3       no  "
      ]
     },
     "execution_count": 5,
     "metadata": {},
     "output_type": "execute_result"
    }
   ],
   "source": [
    "car_2008.tail(5)"
   ]
  },
  {
   "cell_type": "code",
   "execution_count": 6,
   "metadata": {},
   "outputs": [
    {
     "data": {
      "text/html": [
       "<div>\n",
       "<style scoped>\n",
       "    .dataframe tbody tr th:only-of-type {\n",
       "        vertical-align: middle;\n",
       "    }\n",
       "\n",
       "    .dataframe tbody tr th {\n",
       "        vertical-align: top;\n",
       "    }\n",
       "\n",
       "    .dataframe thead th {\n",
       "        text-align: right;\n",
       "    }\n",
       "</style>\n",
       "<table border=\"1\" class=\"dataframe\">\n",
       "  <thead>\n",
       "    <tr style=\"text-align: right;\">\n",
       "      <th></th>\n",
       "      <th>Model</th>\n",
       "      <th>Displ</th>\n",
       "      <th>Cyl</th>\n",
       "      <th>Trans</th>\n",
       "      <th>Drive</th>\n",
       "      <th>Fuel</th>\n",
       "      <th>Cert Region</th>\n",
       "      <th>Stnd</th>\n",
       "      <th>Stnd Description</th>\n",
       "      <th>Underhood ID</th>\n",
       "      <th>Veh Class</th>\n",
       "      <th>Air Pollution Score</th>\n",
       "      <th>City MPG</th>\n",
       "      <th>Hwy MPG</th>\n",
       "      <th>Cmb MPG</th>\n",
       "      <th>Greenhouse Gas Score</th>\n",
       "      <th>SmartWay</th>\n",
       "      <th>Comb CO2</th>\n",
       "    </tr>\n",
       "  </thead>\n",
       "  <tbody>\n",
       "    <tr>\n",
       "      <th>2677</th>\n",
       "      <td>VOLVO XC 90</td>\n",
       "      <td>2.0</td>\n",
       "      <td>4.0</td>\n",
       "      <td>SemiAuto-8</td>\n",
       "      <td>4WD</td>\n",
       "      <td>Gasoline</td>\n",
       "      <td>FA</td>\n",
       "      <td>T3B70</td>\n",
       "      <td>Federal Tier 3 Bin 70</td>\n",
       "      <td>JVVXJ02.0A70</td>\n",
       "      <td>standard SUV</td>\n",
       "      <td>5</td>\n",
       "      <td>22</td>\n",
       "      <td>28</td>\n",
       "      <td>24</td>\n",
       "      <td>5</td>\n",
       "      <td>No</td>\n",
       "      <td>365</td>\n",
       "    </tr>\n",
       "    <tr>\n",
       "      <th>2678</th>\n",
       "      <td>VOLVO XC 90</td>\n",
       "      <td>2.0</td>\n",
       "      <td>4.0</td>\n",
       "      <td>SemiAuto-8</td>\n",
       "      <td>4WD</td>\n",
       "      <td>Gasoline</td>\n",
       "      <td>CA</td>\n",
       "      <td>L3ULEV70</td>\n",
       "      <td>California LEV-III ULEV70</td>\n",
       "      <td>JVVXJ02.0B70</td>\n",
       "      <td>standard SUV</td>\n",
       "      <td>5</td>\n",
       "      <td>20</td>\n",
       "      <td>27</td>\n",
       "      <td>23</td>\n",
       "      <td>5</td>\n",
       "      <td>No</td>\n",
       "      <td>394</td>\n",
       "    </tr>\n",
       "    <tr>\n",
       "      <th>2679</th>\n",
       "      <td>VOLVO XC 90</td>\n",
       "      <td>2.0</td>\n",
       "      <td>4.0</td>\n",
       "      <td>SemiAuto-8</td>\n",
       "      <td>4WD</td>\n",
       "      <td>Gasoline</td>\n",
       "      <td>FA</td>\n",
       "      <td>T3B70</td>\n",
       "      <td>Federal Tier 3 Bin 70</td>\n",
       "      <td>JVVXJ02.0B70</td>\n",
       "      <td>standard SUV</td>\n",
       "      <td>5</td>\n",
       "      <td>20</td>\n",
       "      <td>27</td>\n",
       "      <td>23</td>\n",
       "      <td>5</td>\n",
       "      <td>No</td>\n",
       "      <td>394</td>\n",
       "    </tr>\n",
       "    <tr>\n",
       "      <th>2680</th>\n",
       "      <td>VOLVO XC 90</td>\n",
       "      <td>2.0</td>\n",
       "      <td>4.0</td>\n",
       "      <td>SemiAuto-8</td>\n",
       "      <td>4WD</td>\n",
       "      <td>Gasoline/Electricity</td>\n",
       "      <td>CA</td>\n",
       "      <td>L3SULEV30</td>\n",
       "      <td>California LEV-III SULEV30</td>\n",
       "      <td>JVVXJ02.0P30</td>\n",
       "      <td>standard SUV</td>\n",
       "      <td>7</td>\n",
       "      <td>26/63</td>\n",
       "      <td>30/61</td>\n",
       "      <td>27/62</td>\n",
       "      <td>10</td>\n",
       "      <td>Elite</td>\n",
       "      <td>187</td>\n",
       "    </tr>\n",
       "    <tr>\n",
       "      <th>2681</th>\n",
       "      <td>VOLVO XC 90</td>\n",
       "      <td>2.0</td>\n",
       "      <td>4.0</td>\n",
       "      <td>SemiAuto-8</td>\n",
       "      <td>4WD</td>\n",
       "      <td>Gasoline/Electricity</td>\n",
       "      <td>FA</td>\n",
       "      <td>T3B30</td>\n",
       "      <td>Federal Tier 3 Bin 30</td>\n",
       "      <td>JVVXJ02.0P30</td>\n",
       "      <td>standard SUV</td>\n",
       "      <td>7</td>\n",
       "      <td>26/63</td>\n",
       "      <td>30/61</td>\n",
       "      <td>27/62</td>\n",
       "      <td>10</td>\n",
       "      <td>Elite</td>\n",
       "      <td>187</td>\n",
       "    </tr>\n",
       "  </tbody>\n",
       "</table>\n",
       "</div>"
      ],
      "text/plain": [
       "            Model  Displ  Cyl       Trans Drive                  Fuel  \\\n",
       "2677  VOLVO XC 90    2.0  4.0  SemiAuto-8   4WD              Gasoline   \n",
       "2678  VOLVO XC 90    2.0  4.0  SemiAuto-8   4WD              Gasoline   \n",
       "2679  VOLVO XC 90    2.0  4.0  SemiAuto-8   4WD              Gasoline   \n",
       "2680  VOLVO XC 90    2.0  4.0  SemiAuto-8   4WD  Gasoline/Electricity   \n",
       "2681  VOLVO XC 90    2.0  4.0  SemiAuto-8   4WD  Gasoline/Electricity   \n",
       "\n",
       "     Cert Region       Stnd            Stnd Description  Underhood ID  \\\n",
       "2677          FA      T3B70       Federal Tier 3 Bin 70  JVVXJ02.0A70   \n",
       "2678          CA   L3ULEV70   California LEV-III ULEV70  JVVXJ02.0B70   \n",
       "2679          FA      T3B70       Federal Tier 3 Bin 70  JVVXJ02.0B70   \n",
       "2680          CA  L3SULEV30  California LEV-III SULEV30  JVVXJ02.0P30   \n",
       "2681          FA      T3B30       Federal Tier 3 Bin 30  JVVXJ02.0P30   \n",
       "\n",
       "         Veh Class  Air Pollution Score City MPG Hwy MPG Cmb MPG  \\\n",
       "2677  standard SUV                    5       22      28      24   \n",
       "2678  standard SUV                    5       20      27      23   \n",
       "2679  standard SUV                    5       20      27      23   \n",
       "2680  standard SUV                    7    26/63   30/61   27/62   \n",
       "2681  standard SUV                    7    26/63   30/61   27/62   \n",
       "\n",
       "      Greenhouse Gas Score SmartWay Comb CO2  \n",
       "2677                     5       No      365  \n",
       "2678                     5       No      394  \n",
       "2679                     5       No      394  \n",
       "2680                    10    Elite      187  \n",
       "2681                    10    Elite      187  "
      ]
     },
     "execution_count": 6,
     "metadata": {},
     "output_type": "execute_result"
    }
   ],
   "source": [
    "car_2018.tail(5)"
   ]
  },
  {
   "cell_type": "markdown",
   "metadata": {},
   "source": [
    "### Variables\n",
    "\n",
    "Let's plot the dimensions of each dataframe:\n",
    "\n",
    "* Number of rows (observations);\n",
    "* Number of columns (variables or features)."
   ]
  },
  {
   "cell_type": "code",
   "execution_count": 7,
   "metadata": {},
   "outputs": [
    {
     "name": "stdout",
     "output_type": "stream",
     "text": [
      "* 2008\n",
      "Rows: 2404\n",
      "Columns: 18\n",
      "\n",
      "* 2018\n",
      "Rows: 2682\n",
      "Columns: 18\n"
     ]
    }
   ],
   "source": [
    "# Dimensions of the 2008 dataframe\n",
    "dim_2008 = car_2008.shape\n",
    "\n",
    "# Dimensions of the 2018 dataframe\n",
    "dim_2018 = car_2018.shape\n",
    "\n",
    "print(\"* 2008\\nRows: {}\\nColumns: {}\\n\\n* 2018\\nRows: {}\\nColumns: {}\".format(*dim_2008,*dim_2018)) # Atention to the unpacking the tuples"
   ]
  },
  {
   "cell_type": "markdown",
   "metadata": {},
   "source": [
    "From 2008 to 2018 the number of observations (it means: number of car models) has increased. Curiously, the number of variable kept the same.\n",
    "\n",
    "Let's analyze the variables (or features) of these dataframes.\n",
    "\n",
    "### Variables (Columns names)\n",
    "\n",
    "I will bind these two dataframe into one, so I need to check if the columns has the same names, to be able to do bind them."
   ]
  },
  {
   "cell_type": "code",
   "execution_count": 8,
   "metadata": {},
   "outputs": [
    {
     "data": {
      "text/plain": [
       "['Air Pollution Score',\n",
       " 'City MPG',\n",
       " 'Cmb MPG',\n",
       " 'Cyl',\n",
       " 'Displ',\n",
       " 'Drive',\n",
       " 'FE Calc Appr',\n",
       " 'Fuel',\n",
       " 'Greenhouse Gas Score',\n",
       " 'Hwy MPG',\n",
       " 'Model',\n",
       " 'Sales Area',\n",
       " 'SmartWay',\n",
       " 'Stnd',\n",
       " 'Trans',\n",
       " 'Unadj Cmb MPG',\n",
       " 'Underhood ID',\n",
       " 'Veh Class']"
      ]
     },
     "execution_count": 8,
     "metadata": {},
     "output_type": "execute_result"
    }
   ],
   "source": [
    "sorted(list(car_2008.columns))"
   ]
  },
  {
   "cell_type": "code",
   "execution_count": 9,
   "metadata": {},
   "outputs": [
    {
     "data": {
      "text/plain": [
       "['Air Pollution Score',\n",
       " 'Cert Region',\n",
       " 'City MPG',\n",
       " 'Cmb MPG',\n",
       " 'Comb CO2',\n",
       " 'Cyl',\n",
       " 'Displ',\n",
       " 'Drive',\n",
       " 'Fuel',\n",
       " 'Greenhouse Gas Score',\n",
       " 'Hwy MPG',\n",
       " 'Model',\n",
       " 'SmartWay',\n",
       " 'Stnd',\n",
       " 'Stnd Description',\n",
       " 'Trans',\n",
       " 'Underhood ID',\n",
       " 'Veh Class']"
      ]
     },
     "execution_count": 9,
     "metadata": {},
     "output_type": "execute_result"
    }
   ],
   "source": [
    "sorted(list(car_2018.columns))"
   ]
  },
  {
   "cell_type": "markdown",
   "metadata": {},
   "source": [
    "Although, the absolute column number is equal, there are some new variables and dropped variables.\n",
    "\n",
    "* New\n",
    "    * Cert Region\n",
    "    * Comb CO2\n",
    "    * Stnd Description\n",
    "* Dropped\n",
    "    * FE Calc Appr\n",
    "    * Sales Area\n",
    "    * Unadj Cmb MPG\n",
    "\n",
    "In the Parte 03 Lesson03 Exercise 4, I realized that `Cert Region` and `Sales Area` are the same thing. I will show the table with a very good summary of each variable (This is a copy and paste of the class notes).\n",
    "\n",
    "# COPY and PASTE table\n",
    "\n",
    "Following the good pratices, I will modify these columns names to lowercase and all space will be changed to underscores."
   ]
  },
  {
   "cell_type": "code",
   "execution_count": 10,
   "metadata": {},
   "outputs": [],
   "source": [
    "# The rename methods deals with changin spaces to underscores and lower casing everything.\n",
    "car_2008.rename(columns=lambda x: x.strip().lower().replace(\" \", \"_\"), inplace = True)\n",
    "\n",
    "# The rename methods deals with changin spaces to underscores and lower casing everything.\n",
    "car_2018.rename(columns=lambda x: x.strip().lower().replace(\" \", \"_\"), inplace = True)"
   ]
  },
  {
   "cell_type": "markdown",
   "metadata": {},
   "source": [
    "### NA values\n",
    "\n",
    "Using the `.info()` I can see the number of non-full elements."
   ]
  },
  {
   "cell_type": "code",
   "execution_count": 11,
   "metadata": {},
   "outputs": [
    {
     "name": "stdout",
     "output_type": "stream",
     "text": [
      "<class 'pandas.core.frame.DataFrame'>\n",
      "RangeIndex: 2404 entries, 0 to 2403\n",
      "Data columns (total 18 columns):\n",
      "model                   2404 non-null object\n",
      "displ                   2404 non-null float64\n",
      "cyl                     2205 non-null object\n",
      "trans                   2205 non-null object\n",
      "drive                   2311 non-null object\n",
      "fuel                    2404 non-null object\n",
      "sales_area              2404 non-null object\n",
      "stnd                    2404 non-null object\n",
      "underhood_id            2404 non-null object\n",
      "veh_class               2404 non-null object\n",
      "air_pollution_score     2404 non-null object\n",
      "fe_calc_appr            2205 non-null object\n",
      "city_mpg                2205 non-null object\n",
      "hwy_mpg                 2205 non-null object\n",
      "cmb_mpg                 2205 non-null object\n",
      "unadj_cmb_mpg           2205 non-null float64\n",
      "greenhouse_gas_score    2205 non-null object\n",
      "smartway                2404 non-null object\n",
      "dtypes: float64(2), object(16)\n",
      "memory usage: 338.1+ KB\n"
     ]
    }
   ],
   "source": [
    "car_2008.info()"
   ]
  },
  {
   "cell_type": "code",
   "execution_count": 12,
   "metadata": {},
   "outputs": [
    {
     "name": "stdout",
     "output_type": "stream",
     "text": [
      "<class 'pandas.core.frame.DataFrame'>\n",
      "RangeIndex: 2682 entries, 0 to 2681\n",
      "Data columns (total 18 columns):\n",
      "model                   2682 non-null object\n",
      "displ                   2637 non-null float64\n",
      "cyl                     2637 non-null float64\n",
      "trans                   2682 non-null object\n",
      "drive                   2682 non-null object\n",
      "fuel                    2682 non-null object\n",
      "cert_region             2682 non-null object\n",
      "stnd                    2682 non-null object\n",
      "stnd_description        2682 non-null object\n",
      "underhood_id            2682 non-null object\n",
      "veh_class               2682 non-null object\n",
      "air_pollution_score     2682 non-null int64\n",
      "city_mpg                2682 non-null object\n",
      "hwy_mpg                 2682 non-null object\n",
      "cmb_mpg                 2682 non-null object\n",
      "greenhouse_gas_score    2682 non-null int64\n",
      "smartway                2682 non-null object\n",
      "comb_co2                2682 non-null object\n",
      "dtypes: float64(2), int64(2), object(14)\n",
      "memory usage: 377.2+ KB\n"
     ]
    }
   ],
   "source": [
    "car_2018.info()"
   ]
  },
  {
   "cell_type": "markdown",
   "metadata": {},
   "source": [
    "Based on these two `.info()` results, I can highlight:\n",
    "\n",
    "* Number of entries in 2008: 2404\n",
    "    * In some cases, variables has less (it means: NA cells)\n",
    "* Number of entries in 2018: 2682\n",
    "    * In some cases, variables has less (it means: NA cells)\n",
    "\n",
    "So, these two dataframe has `NA` values.\n",
    "\n",
    "* 2008: 199 NA rows\n",
    "* 2018: 45 NA rows\n",
    "\n",
    "### Duplicated entries\n",
    "\n",
    "I would like to know if there are any duplicated rows."
   ]
  },
  {
   "cell_type": "code",
   "execution_count": 13,
   "metadata": {},
   "outputs": [
    {
     "name": "stdout",
     "output_type": "stream",
     "text": [
      "Duplicated rows in 2008: 25\n",
      "Duplicated rows in 2008: 0\n"
     ]
    }
   ],
   "source": [
    "# Calculation of duplicated rows in each dataframe.\n",
    "dupe_2008, dupe_2018 = sum(car_2008.duplicated()),sum(car_2018.duplicated())\n",
    "\n",
    "print(\"Duplicated rows in 2008: {}\\nDuplicated rows in 2008: {}\".format(dupe_2008, dupe_2018))"
   ]
  },
  {
   "cell_type": "markdown",
   "metadata": {},
   "source": [
    "As you can see, there are 25 rows duplicated in 2008.\n",
    "\n",
    "### Summarization\n",
    "\n",
    "A very short way to summarize the variable in each dataframe, is using the method `.describre()`."
   ]
  },
  {
   "cell_type": "code",
   "execution_count": 14,
   "metadata": {},
   "outputs": [
    {
     "data": {
      "text/html": [
       "<div>\n",
       "<style scoped>\n",
       "    .dataframe tbody tr th:only-of-type {\n",
       "        vertical-align: middle;\n",
       "    }\n",
       "\n",
       "    .dataframe tbody tr th {\n",
       "        vertical-align: top;\n",
       "    }\n",
       "\n",
       "    .dataframe thead th {\n",
       "        text-align: right;\n",
       "    }\n",
       "</style>\n",
       "<table border=\"1\" class=\"dataframe\">\n",
       "  <thead>\n",
       "    <tr style=\"text-align: right;\">\n",
       "      <th></th>\n",
       "      <th>displ</th>\n",
       "      <th>unadj_cmb_mpg</th>\n",
       "    </tr>\n",
       "  </thead>\n",
       "  <tbody>\n",
       "    <tr>\n",
       "      <th>count</th>\n",
       "      <td>2404.000000</td>\n",
       "      <td>2205.000000</td>\n",
       "    </tr>\n",
       "    <tr>\n",
       "      <th>mean</th>\n",
       "      <td>3.748918</td>\n",
       "      <td>23.916104</td>\n",
       "    </tr>\n",
       "    <tr>\n",
       "      <th>std</th>\n",
       "      <td>1.335785</td>\n",
       "      <td>6.366170</td>\n",
       "    </tr>\n",
       "    <tr>\n",
       "      <th>min</th>\n",
       "      <td>1.300000</td>\n",
       "      <td>10.018400</td>\n",
       "    </tr>\n",
       "    <tr>\n",
       "      <th>25%</th>\n",
       "      <td>2.500000</td>\n",
       "      <td>19.113900</td>\n",
       "    </tr>\n",
       "    <tr>\n",
       "      <th>50%</th>\n",
       "      <td>3.500000</td>\n",
       "      <td>23.921300</td>\n",
       "    </tr>\n",
       "    <tr>\n",
       "      <th>75%</th>\n",
       "      <td>4.800000</td>\n",
       "      <td>27.869300</td>\n",
       "    </tr>\n",
       "    <tr>\n",
       "      <th>max</th>\n",
       "      <td>8.400000</td>\n",
       "      <td>65.777800</td>\n",
       "    </tr>\n",
       "  </tbody>\n",
       "</table>\n",
       "</div>"
      ],
      "text/plain": [
       "             displ  unadj_cmb_mpg\n",
       "count  2404.000000    2205.000000\n",
       "mean      3.748918      23.916104\n",
       "std       1.335785       6.366170\n",
       "min       1.300000      10.018400\n",
       "25%       2.500000      19.113900\n",
       "50%       3.500000      23.921300\n",
       "75%       4.800000      27.869300\n",
       "max       8.400000      65.777800"
      ]
     },
     "execution_count": 14,
     "metadata": {},
     "output_type": "execute_result"
    }
   ],
   "source": [
    "car_2008.describe()"
   ]
  },
  {
   "cell_type": "code",
   "execution_count": 15,
   "metadata": {},
   "outputs": [
    {
     "data": {
      "text/html": [
       "<div>\n",
       "<style scoped>\n",
       "    .dataframe tbody tr th:only-of-type {\n",
       "        vertical-align: middle;\n",
       "    }\n",
       "\n",
       "    .dataframe tbody tr th {\n",
       "        vertical-align: top;\n",
       "    }\n",
       "\n",
       "    .dataframe thead th {\n",
       "        text-align: right;\n",
       "    }\n",
       "</style>\n",
       "<table border=\"1\" class=\"dataframe\">\n",
       "  <thead>\n",
       "    <tr style=\"text-align: right;\">\n",
       "      <th></th>\n",
       "      <th>displ</th>\n",
       "      <th>cyl</th>\n",
       "      <th>air_pollution_score</th>\n",
       "      <th>greenhouse_gas_score</th>\n",
       "    </tr>\n",
       "  </thead>\n",
       "  <tbody>\n",
       "    <tr>\n",
       "      <th>count</th>\n",
       "      <td>2637.000000</td>\n",
       "      <td>2637.000000</td>\n",
       "      <td>2682.000000</td>\n",
       "      <td>2682.000000</td>\n",
       "    </tr>\n",
       "    <tr>\n",
       "      <th>mean</th>\n",
       "      <td>3.017482</td>\n",
       "      <td>5.495639</td>\n",
       "      <td>4.133855</td>\n",
       "      <td>4.834452</td>\n",
       "    </tr>\n",
       "    <tr>\n",
       "      <th>std</th>\n",
       "      <td>1.303469</td>\n",
       "      <td>1.827874</td>\n",
       "      <td>1.959773</td>\n",
       "      <td>1.895488</td>\n",
       "    </tr>\n",
       "    <tr>\n",
       "      <th>min</th>\n",
       "      <td>0.600000</td>\n",
       "      <td>2.000000</td>\n",
       "      <td>1.000000</td>\n",
       "      <td>1.000000</td>\n",
       "    </tr>\n",
       "    <tr>\n",
       "      <th>25%</th>\n",
       "      <td>2.000000</td>\n",
       "      <td>4.000000</td>\n",
       "      <td>3.000000</td>\n",
       "      <td>4.000000</td>\n",
       "    </tr>\n",
       "    <tr>\n",
       "      <th>50%</th>\n",
       "      <td>2.900000</td>\n",
       "      <td>6.000000</td>\n",
       "      <td>3.000000</td>\n",
       "      <td>5.000000</td>\n",
       "    </tr>\n",
       "    <tr>\n",
       "      <th>75%</th>\n",
       "      <td>3.600000</td>\n",
       "      <td>6.000000</td>\n",
       "      <td>5.000000</td>\n",
       "      <td>6.000000</td>\n",
       "    </tr>\n",
       "    <tr>\n",
       "      <th>max</th>\n",
       "      <td>8.000000</td>\n",
       "      <td>16.000000</td>\n",
       "      <td>10.000000</td>\n",
       "      <td>10.000000</td>\n",
       "    </tr>\n",
       "  </tbody>\n",
       "</table>\n",
       "</div>"
      ],
      "text/plain": [
       "             displ          cyl  air_pollution_score  greenhouse_gas_score\n",
       "count  2637.000000  2637.000000          2682.000000           2682.000000\n",
       "mean      3.017482     5.495639             4.133855              4.834452\n",
       "std       1.303469     1.827874             1.959773              1.895488\n",
       "min       0.600000     2.000000             1.000000              1.000000\n",
       "25%       2.000000     4.000000             3.000000              4.000000\n",
       "50%       2.900000     6.000000             3.000000              5.000000\n",
       "75%       3.600000     6.000000             5.000000              6.000000\n",
       "max       8.000000    16.000000            10.000000             10.000000"
      ]
     },
     "execution_count": 15,
     "metadata": {},
     "output_type": "execute_result"
    }
   ],
   "source": [
    "car_2018.describe()"
   ]
  },
  {
   "cell_type": "markdown",
   "metadata": {},
   "source": [
    "The results are quite distincts, due to the variable class type, this summary only works to `int` or `float` variables.\n",
    "\n",
    "### Unique attributes\n",
    "\n",
    "Sometimes It is useful to analyze the number of unique (this is the reason I am using `.nunique()`) values in each variable. In case of categorical variable, I can see if a new category is \"released\"."
   ]
  },
  {
   "cell_type": "code",
   "execution_count": 16,
   "metadata": {},
   "outputs": [
    {
     "data": {
      "text/plain": [
       "model                   436\n",
       "displ                    47\n",
       "cyl                       8\n",
       "trans                    14\n",
       "drive                     2\n",
       "fuel                      5\n",
       "sales_area                3\n",
       "stnd                     12\n",
       "underhood_id            343\n",
       "veh_class                 9\n",
       "air_pollution_score      13\n",
       "fe_calc_appr              2\n",
       "city_mpg                 39\n",
       "hwy_mpg                  43\n",
       "cmb_mpg                  38\n",
       "unadj_cmb_mpg           721\n",
       "greenhouse_gas_score     20\n",
       "smartway                  2\n",
       "dtype: int64"
      ]
     },
     "execution_count": 16,
     "metadata": {},
     "output_type": "execute_result"
    }
   ],
   "source": [
    "# Number of Unique values\n",
    "car_2008.nunique()"
   ]
  },
  {
   "cell_type": "code",
   "execution_count": 17,
   "metadata": {},
   "outputs": [
    {
     "data": {
      "text/plain": [
       "model                   645\n",
       "displ                    45\n",
       "cyl                       9\n",
       "trans                    29\n",
       "drive                     2\n",
       "fuel                      6\n",
       "cert_region               2\n",
       "stnd                     25\n",
       "stnd_description         25\n",
       "underhood_id            418\n",
       "veh_class                10\n",
       "air_pollution_score       7\n",
       "city_mpg                113\n",
       "hwy_mpg                 118\n",
       "cmb_mpg                 109\n",
       "greenhouse_gas_score     10\n",
       "smartway                  3\n",
       "comb_co2                405\n",
       "dtype: int64"
      ]
     },
     "execution_count": 17,
     "metadata": {},
     "output_type": "execute_result"
    }
   ],
   "source": [
    "# Number of Unique values\n",
    "car_2018.nunique()"
   ]
  },
  {
   "cell_type": "markdown",
   "metadata": {},
   "source": [
    "An example to see the difference between these two dataframes is analyzing the `fuel` variable. Now, I will use `.unique()`."
   ]
  },
  {
   "cell_type": "code",
   "execution_count": 18,
   "metadata": {},
   "outputs": [
    {
     "data": {
      "text/plain": [
       "array(['Gasoline', 'ethanol/gas', 'ethanol', 'diesel', 'CNG'],\n",
       "      dtype=object)"
      ]
     },
     "execution_count": 18,
     "metadata": {},
     "output_type": "execute_result"
    }
   ],
   "source": [
    "# Number of Unique values\n",
    "car_2008['fuel'].unique()"
   ]
  },
  {
   "cell_type": "code",
   "execution_count": 19,
   "metadata": {},
   "outputs": [
    {
     "data": {
      "text/plain": [
       "array(['Gasoline', 'Gasoline/Electricity', 'Diesel', 'Electricity',\n",
       "       'Ethanol/Gas', 'Hydrogen'], dtype=object)"
      ]
     },
     "execution_count": 19,
     "metadata": {},
     "output_type": "execute_result"
    }
   ],
   "source": [
    "# Number of Unique values\n",
    "car_2018['fuel'].unique()"
   ]
  },
  {
   "cell_type": "markdown",
   "metadata": {},
   "source": [
    "There are new categories and other were dropped. Clearly, I must lowercase and remove the spaces to follow a better standard of coding.\n",
    "\n",
    "## Cleaning Column Labels\n",
    "\n",
    "### Q1: Drop extraneous columns\n",
    "\n",
    "\n",
    "Just to make sure all the names are equal, and removing unnecessary variables.\n",
    "\n",
    "Columns to Drop:\n",
    "\n",
    "* From 2008 dataset\n",
    "    * 'Stnd', 'Underhood ID', 'FE Calc Appr', 'Unadj Cmb MPG'\n",
    "* From 2018 dataset\n",
    "    * 'Stnd', 'Stnd Description', 'Underhood ID', 'Comb CO2'"
   ]
  },
  {
   "cell_type": "code",
   "execution_count": 20,
   "metadata": {},
   "outputs": [],
   "source": [
    "# Removing unnecessary columns, so dropping columns from 2008 dataset\n",
    "car_2008.drop(['stnd', 'underhood_id', 'fe_calc_appr', 'unadj_cmb_mpg'], axis=1, inplace=True) # Will update the current dataframe"
   ]
  },
  {
   "cell_type": "code",
   "execution_count": 21,
   "metadata": {},
   "outputs": [],
   "source": [
    "# Removing unnecessary columns, so dropping columns from 2018 dataset\n",
    "car_2018.drop(['stnd', 'stnd_description', 'underhood_id', 'comb_co2'], axis=1, inplace=True) # Will update the current dataframe"
   ]
  },
  {
   "cell_type": "markdown",
   "metadata": {},
   "source": [
    "Now, both dataframe has the same variables with same names."
   ]
  },
  {
   "cell_type": "markdown",
   "metadata": {},
   "source": [
    "### Q2: Rename Columns\n",
    "\n",
    "* Change the \"Sales Area\" column label in the 2008 dataset to \"Cert Region\" for consistency.\n",
    "* Rename all column labels to replace spaces with underscores and convert everything to lowercase. (Underscores can be much easier to work with in Python than spaces. For example, having spaces wouldn't allow you to use df.column_name instead of df['column_name'] to select columns or use query(). Being consistent with lowercase and underscores also helps make column names easy to remember.)\n",
    "\n",
    "In this step I need to lowercase and remove the spaces in the columns names, but I have anticepated it. I only need to rename the `Sales Region` to `Cert Region`."
   ]
  },
  {
   "cell_type": "code",
   "execution_count": 22,
   "metadata": {},
   "outputs": [
    {
     "data": {
      "text/html": [
       "<div>\n",
       "<style scoped>\n",
       "    .dataframe tbody tr th:only-of-type {\n",
       "        vertical-align: middle;\n",
       "    }\n",
       "\n",
       "    .dataframe tbody tr th {\n",
       "        vertical-align: top;\n",
       "    }\n",
       "\n",
       "    .dataframe thead th {\n",
       "        text-align: right;\n",
       "    }\n",
       "</style>\n",
       "<table border=\"1\" class=\"dataframe\">\n",
       "  <thead>\n",
       "    <tr style=\"text-align: right;\">\n",
       "      <th></th>\n",
       "      <th>model</th>\n",
       "      <th>displ</th>\n",
       "      <th>cyl</th>\n",
       "      <th>trans</th>\n",
       "      <th>drive</th>\n",
       "      <th>fuel</th>\n",
       "      <th>cert_region</th>\n",
       "      <th>veh_class</th>\n",
       "      <th>air_pollution_score</th>\n",
       "      <th>city_mpg</th>\n",
       "      <th>hwy_mpg</th>\n",
       "      <th>cmb_mpg</th>\n",
       "      <th>greenhouse_gas_score</th>\n",
       "      <th>smartway</th>\n",
       "    </tr>\n",
       "  </thead>\n",
       "  <tbody>\n",
       "    <tr>\n",
       "      <th>0</th>\n",
       "      <td>ACURA MDX</td>\n",
       "      <td>3.7</td>\n",
       "      <td>(6 cyl)</td>\n",
       "      <td>Auto-S5</td>\n",
       "      <td>4WD</td>\n",
       "      <td>Gasoline</td>\n",
       "      <td>CA</td>\n",
       "      <td>SUV</td>\n",
       "      <td>7</td>\n",
       "      <td>15</td>\n",
       "      <td>20</td>\n",
       "      <td>17</td>\n",
       "      <td>4</td>\n",
       "      <td>no</td>\n",
       "    </tr>\n",
       "  </tbody>\n",
       "</table>\n",
       "</div>"
      ],
      "text/plain": [
       "       model  displ      cyl    trans drive      fuel cert_region veh_class  \\\n",
       "0  ACURA MDX    3.7  (6 cyl)  Auto-S5   4WD  Gasoline          CA       SUV   \n",
       "\n",
       "  air_pollution_score city_mpg hwy_mpg cmb_mpg greenhouse_gas_score smartway  \n",
       "0                   7       15      20      17                    4       no  "
      ]
     },
     "execution_count": 22,
     "metadata": {},
     "output_type": "execute_result"
    }
   ],
   "source": [
    "# rename Sales Area to Cert Region\n",
    "names_columns_2008 = list(car_2008.columns)  # Save name columns\n",
    "names_columns_2008[6] = 'cert_region'        # Update Sales Area to Cert Region\n",
    "\n",
    "# Renaming columns names, now with Cert Region.\n",
    "car_2008.columns = names_columns_2008\n",
    "\n",
    "# confirm changes\n",
    "car_2008.head(1)"
   ]
  },
  {
   "cell_type": "markdown",
   "metadata": {},
   "source": [
    "The columns are equal."
   ]
  },
  {
   "cell_type": "code",
   "execution_count": 23,
   "metadata": {},
   "outputs": [
    {
     "data": {
      "text/plain": [
       "array([ True,  True,  True,  True,  True,  True,  True,  True,  True,\n",
       "        True,  True,  True,  True,  True])"
      ]
     },
     "execution_count": 23,
     "metadata": {},
     "output_type": "execute_result"
    }
   ],
   "source": [
    "# confirm column labels for 2008 and 2018 datasets are identical\n",
    "car_2008.columns == car_2018.columns"
   ]
  },
  {
   "cell_type": "markdown",
   "metadata": {},
   "source": [
    "Just to make sure everything is equal!"
   ]
  },
  {
   "cell_type": "code",
   "execution_count": 24,
   "metadata": {},
   "outputs": [
    {
     "data": {
      "text/plain": [
       "True"
      ]
     },
     "execution_count": 24,
     "metadata": {},
     "output_type": "execute_result"
    }
   ],
   "source": [
    "# make sure they're all identical like this\n",
    "(car_2008.columns == car_2018.columns).all()"
   ]
  },
  {
   "cell_type": "markdown",
   "metadata": {},
   "source": [
    "## Filter, Drop Nulls, Dedupe\n",
    "\n",
    "1. Filter\n",
    "For consistency, only compare cars certified by California standards. Filter both datasets using `query` to select only rows where `cert_region` is `CA`. Then, drop the `cert_region` columns, since it will no longer provide any useful information (we'll know every value is 'CA').\n",
    "\n",
    "2. Drop Nulls\n",
    "Drop any rows in both datasets that contain missing values.\n",
    "\n",
    "3. Dedupe\n",
    "Drop any duplicate rows in both datasets."
   ]
  },
  {
   "cell_type": "code",
   "execution_count": 40,
   "metadata": {},
   "outputs": [
    {
     "data": {
      "text/plain": [
       "(2404, 14)"
      ]
     },
     "execution_count": 40,
     "metadata": {},
     "output_type": "execute_result"
    }
   ],
   "source": [
    "car_2008.shape"
   ]
  },
  {
   "cell_type": "code",
   "execution_count": 41,
   "metadata": {},
   "outputs": [
    {
     "data": {
      "text/plain": [
       "(2682, 14)"
      ]
     },
     "execution_count": 41,
     "metadata": {},
     "output_type": "execute_result"
    }
   ],
   "source": [
    "car_2018.shape"
   ]
  },
  {
   "cell_type": "markdown",
   "metadata": {},
   "source": [
    "### Q1: Filter by Certification Region\n",
    "\n",
    "I will subset the original dataset to a small one, with only California data."
   ]
  },
  {
   "cell_type": "code",
   "execution_count": 25,
   "metadata": {},
   "outputs": [],
   "source": [
    "# filter datasets for rows following California standards\n",
    "df_08 = car_2008.query('cert_region == \"CA\"')\n",
    "df_18 = car_2018.query('cert_region == \"CA\"')"
   ]
  },
  {
   "cell_type": "markdown",
   "metadata": {},
   "source": [
    "Keep in mind that:\n",
    "\n",
    "```\n",
    "my_filter = \"CA\"\n",
    "car_2008.query('cert_region == \"{}\"'.format(my_filter))\n",
    "```\n",
    "\n",
    "Also works here.\n",
    "\n",
    "Just to be sure the filter work, let's find the uniques values of `cert_region`."
   ]
  },
  {
   "cell_type": "code",
   "execution_count": 26,
   "metadata": {},
   "outputs": [
    {
     "data": {
      "text/plain": [
       "array(['CA'], dtype=object)"
      ]
     },
     "execution_count": 26,
     "metadata": {},
     "output_type": "execute_result"
    }
   ],
   "source": [
    "# confirm only certification region is California\n",
    "df_08['cert_region'].unique()"
   ]
  },
  {
   "cell_type": "code",
   "execution_count": 27,
   "metadata": {},
   "outputs": [
    {
     "data": {
      "text/plain": [
       "array(['CA'], dtype=object)"
      ]
     },
     "execution_count": 27,
     "metadata": {},
     "output_type": "execute_result"
    }
   ],
   "source": [
    "# confirm only certification region is California\n",
    "df_18['cert_region'].unique()"
   ]
  },
  {
   "cell_type": "markdown",
   "metadata": {},
   "source": [
    "Dropping the variable `cert_region`, because it is not a useful variable, due to has only `CA` values."
   ]
  },
  {
   "cell_type": "code",
   "execution_count": 28,
   "metadata": {},
   "outputs": [],
   "source": [
    "# drop certification region columns form both datasets\n",
    "df_08 = df_08.drop('cert_region', axis=1) "
   ]
  },
  {
   "cell_type": "code",
   "execution_count": 29,
   "metadata": {},
   "outputs": [],
   "source": [
    "df_18 = df_18.drop('cert_region', axis=1)"
   ]
  },
  {
   "cell_type": "markdown",
   "metadata": {},
   "source": [
    "Checking the dimensions of this dataframe after drop one variable."
   ]
  },
  {
   "cell_type": "code",
   "execution_count": 30,
   "metadata": {},
   "outputs": [
    {
     "data": {
      "text/plain": [
       "(1084, 13)"
      ]
     },
     "execution_count": 30,
     "metadata": {},
     "output_type": "execute_result"
    }
   ],
   "source": [
    "df_08.shape"
   ]
  },
  {
   "cell_type": "code",
   "execution_count": 31,
   "metadata": {},
   "outputs": [
    {
     "data": {
      "text/plain": [
       "(1322, 13)"
      ]
     },
     "execution_count": 31,
     "metadata": {},
     "output_type": "execute_result"
    }
   ],
   "source": [
    "df_18.shape"
   ]
  },
  {
   "cell_type": "markdown",
   "metadata": {},
   "source": [
    "### Q2: Drop Rows with Missing Values\n",
    "\n",
    "Let's shows the number of entries and non-full values."
   ]
  },
  {
   "cell_type": "code",
   "execution_count": 32,
   "metadata": {},
   "outputs": [
    {
     "name": "stdout",
     "output_type": "stream",
     "text": [
      "<class 'pandas.core.frame.DataFrame'>\n",
      "Int64Index: 1084 entries, 0 to 2400\n",
      "Data columns (total 13 columns):\n",
      "model                   1084 non-null object\n",
      "displ                   1084 non-null float64\n",
      "cyl                     1009 non-null object\n",
      "trans                   1009 non-null object\n",
      "drive                   1047 non-null object\n",
      "fuel                    1084 non-null object\n",
      "veh_class               1084 non-null object\n",
      "air_pollution_score     1084 non-null object\n",
      "city_mpg                1009 non-null object\n",
      "hwy_mpg                 1009 non-null object\n",
      "cmb_mpg                 1009 non-null object\n",
      "greenhouse_gas_score    1009 non-null object\n",
      "smartway                1084 non-null object\n",
      "dtypes: float64(1), object(12)\n",
      "memory usage: 118.6+ KB\n"
     ]
    }
   ],
   "source": [
    "# view missing value count for each feature in 2008\n",
    "df_08.info()"
   ]
  },
  {
   "cell_type": "code",
   "execution_count": 33,
   "metadata": {},
   "outputs": [
    {
     "name": "stdout",
     "output_type": "stream",
     "text": [
      "<class 'pandas.core.frame.DataFrame'>\n",
      "Int64Index: 1322 entries, 0 to 2680\n",
      "Data columns (total 13 columns):\n",
      "model                   1322 non-null object\n",
      "displ                   1302 non-null float64\n",
      "cyl                     1302 non-null float64\n",
      "trans                   1322 non-null object\n",
      "drive                   1322 non-null object\n",
      "fuel                    1322 non-null object\n",
      "veh_class               1322 non-null object\n",
      "air_pollution_score     1322 non-null int64\n",
      "city_mpg                1322 non-null object\n",
      "hwy_mpg                 1322 non-null object\n",
      "cmb_mpg                 1322 non-null object\n",
      "greenhouse_gas_score    1322 non-null int64\n",
      "smartway                1322 non-null object\n",
      "dtypes: float64(2), int64(2), object(9)\n",
      "memory usage: 144.6+ KB\n"
     ]
    }
   ],
   "source": [
    "# view missing value count for each feature in 2018\n",
    "df_18.info()"
   ]
  },
  {
   "cell_type": "markdown",
   "metadata": {},
   "source": [
    "There are some `NA` values, by using the `.dropna()` method I can remove these lines."
   ]
  },
  {
   "cell_type": "code",
   "execution_count": 34,
   "metadata": {},
   "outputs": [],
   "source": [
    "# drop rows with any null values in both datasets\n",
    "df_08.dropna(axis=0, inplace = True)\n",
    "df_18.dropna(axis=0, inplace = True)"
   ]
  },
  {
   "cell_type": "markdown",
   "metadata": {},
   "source": [
    "The method `.isnull()` checks if some row has null values."
   ]
  },
  {
   "cell_type": "code",
   "execution_count": 35,
   "metadata": {},
   "outputs": [
    {
     "data": {
      "text/plain": [
       "False"
      ]
     },
     "execution_count": 35,
     "metadata": {},
     "output_type": "execute_result"
    }
   ],
   "source": [
    "# checks if any of columns in 2008 have null values - should print False\n",
    "df_08.isnull().sum().any()"
   ]
  },
  {
   "cell_type": "code",
   "execution_count": 36,
   "metadata": {},
   "outputs": [
    {
     "data": {
      "text/plain": [
       "False"
      ]
     },
     "execution_count": 36,
     "metadata": {},
     "output_type": "execute_result"
    }
   ],
   "source": [
    "# checks if any of columns in 2018 have null values - should print False\n",
    "df_18.isnull().sum().any()"
   ]
  },
  {
   "cell_type": "markdown",
   "metadata": {},
   "source": [
    "### Q3: Dedupe Data\n",
    "\n",
    "The method `.drop_duplicates()` will remove any row with at least one null value. First, let's print the number of duplicates entries in both dataframes."
   ]
  },
  {
   "cell_type": "code",
   "execution_count": 37,
   "metadata": {},
   "outputs": [
    {
     "name": "stdout",
     "output_type": "stream",
     "text": [
      "Duplicated in 2008: 23\n",
      "Duplicated in 2018: 10\n"
     ]
    }
   ],
   "source": [
    "# print number of duplicates in 2008 and 2018 datasets\n",
    "dupe_2008, dupe_2018 = sum(df_08.duplicated()),sum(df_18.duplicated())\n",
    "\n",
    "# Print\n",
    "print(\"Duplicated in 2008: {}\\nDuplicated in 2018: {}\".format(dupe_2008, dupe_2018))"
   ]
  },
  {
   "cell_type": "code",
   "execution_count": 38,
   "metadata": {},
   "outputs": [],
   "source": [
    "# drop duplicates in both datasets\n",
    "df_08.drop_duplicates(inplace= True)\n",
    "df_18.drop_duplicates(inplace= True)"
   ]
  },
  {
   "cell_type": "markdown",
   "metadata": {},
   "source": [
    "Just to ensure if I have removed all the null rows."
   ]
  },
  {
   "cell_type": "code",
   "execution_count": 42,
   "metadata": {},
   "outputs": [
    {
     "name": "stdout",
     "output_type": "stream",
     "text": [
      "Duplicated in 2008: 0\n",
      "Duplicated in 2018: 0\n"
     ]
    }
   ],
   "source": [
    "# print number of duplicates again to confirm dedupe - should both be 0\n",
    "dupe_2008, dupe_2018 = sum(df_08.duplicated()),sum(df_18.duplicated())\n",
    "\n",
    "# Print\n",
    "print(\"Duplicated in 2008: {}\\nDuplicated in 2018: {}\".format(dupe_2008, dupe_2018))"
   ]
  },
  {
   "cell_type": "markdown",
   "metadata": {},
   "source": [
    "## Inspecting Data Types\n",
    "\n",
    "Use this Jupyter Notebook to inspect the datatypes of features in each dataset and think about what changes should be made to make them practical and consistent (in both datasets). Use this to help you answer the quiz questions below."
   ]
  },
  {
   "cell_type": "code",
   "execution_count": null,
   "metadata": {},
   "outputs": [],
   "source": []
  }
 ],
 "metadata": {
  "kernelspec": {
   "display_name": "Python 3",
   "language": "python",
   "name": "python3"
  },
  "language_info": {
   "codemirror_mode": {
    "name": "ipython",
    "version": 3
   },
   "file_extension": ".py",
   "mimetype": "text/x-python",
   "name": "python",
   "nbconvert_exporter": "python",
   "pygments_lexer": "ipython3",
   "version": "3.7.0"
  }
 },
 "nbformat": 4,
 "nbformat_minor": 2
}
